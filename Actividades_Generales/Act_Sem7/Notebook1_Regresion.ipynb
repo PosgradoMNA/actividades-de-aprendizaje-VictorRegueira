{
  "nbformat": 4,
  "nbformat_minor": 0,
  "metadata": {
    "colab": {
      "provenance": [],
      "collapsed_sections": [],
      "toc_visible": true,
      "authorship_tag": "ABX9TyPZNxfoWzWl/iPSk1Ul4A5K",
      "include_colab_link": true
    },
    "kernelspec": {
      "name": "python3",
      "display_name": "Python 3"
    },
    "language_info": {
      "name": "python"
    }
  },
  "cells": [
    {
      "cell_type": "markdown",
      "metadata": {
        "id": "view-in-github",
        "colab_type": "text"
      },
      "source": [
        "<a href=\"https://colab.research.google.com/github/PosgradoMNA/actividades-de-aprendizaje-VictorRegueira/blob/main/Actividades_Generales/Act_Sem7/Notebook1_Regresion.ipynb\" target=\"_parent\"><img src=\"https://colab.research.google.com/assets/colab-badge.svg\" alt=\"Open In Colab\"/></a>"
      ]
    },
    {
      "cell_type": "markdown",
      "source": [
        "# Presentación"
      ],
      "metadata": {
        "id": "nDA0NUEK2QVd"
      }
    },
    {
      "cell_type": "markdown",
      "source": [
        "**Ciencia y Analítica de Datos**\n",
        "\n",
        "Por:\n",
        "\n",
        "* Víctor Alejandro Regueira Romero - A01794404\n",
        "\n",
        "Profesor asignado:\n",
        "* Roberto Antonio Guevara González\n",
        "\n",
        "A 8 de noviembre de 2022"
      ],
      "metadata": {
        "id": "iKZC5hgh2U74"
      }
    },
    {
      "cell_type": "markdown",
      "source": [
        "# Actividad Semanal 7 **Regresiones**"
      ],
      "metadata": {
        "id": "z1b9eRD42xjk"
      }
    },
    {
      "cell_type": "markdown",
      "source": [
        "Librerías"
      ],
      "metadata": {
        "id": "iahcDQVY3GLn"
      }
    },
    {
      "cell_type": "code",
      "source": [
        "#Nuestras librerias\n",
        "import numpy as np\n",
        "%matplotlib inline\n",
        "import matplotlib\n",
        "import matplotlib.pyplot as plt\n",
        "import pandas as pd\n",
        "import seaborn as sns\n",
        "from sklearn.linear_model import LinearRegression, Lasso, Ridge\n",
        "from sklearn.preprocessing import PolynomialFeatures\n",
        "from sklearn import metrics\n",
        "from sklearn.metrics import r2_score\n",
        "from sklearn.metrics import mean_squared_error, mean_absolute_percentage_error,  make_scorer\n",
        "from sklearn.preprocessing import MinMaxScaler\n",
        "from sklearn.preprocessing import power_transform\n",
        "from sklearn.model_selection import RepeatedKFold, RepeatedStratifiedKFold\n",
        "from sklearn.model_selection import cross_val_score\n",
        "from sklearn.preprocessing import StandardScaler\n",
        "from sklearn.pipeline import Pipeline\n",
        "from sklearn.model_selection import train_test_split, GridSearchCV, train_test_split, RepeatedKFold, cross_validate\n"
      ],
      "metadata": {
        "id": "LU4Iu6SJ3IZA"
      },
      "execution_count": 1,
      "outputs": []
    },
    {
      "cell_type": "markdown",
      "source": [
        "## Ejercicio 1\n",
        "\n",
        "Utiliza la base de datos de https://www.kaggle.com/vinicius150987/manufacturing-cost\n",
        "\n",
        "Suponga que trabaja como consultor de una empresa de nueva creación que busca desarrollar un modelo para estimar el costo de los bienes vendidos a medida que varían el volumen de producción (número de unidades producidas). La startup recopiló datos y le pidió que desarrollara un modelo para predecir su costo frente a la cantidad de unidades vendidas."
      ],
      "metadata": {
        "id": "zVI07ZpP28ol"
      }
    },
    {
      "cell_type": "code",
      "execution_count": 2,
      "metadata": {
        "colab": {
          "base_uri": "https://localhost:8080/",
          "height": 363
        },
        "id": "6D8BmLKS17Hp",
        "outputId": "bf839d17-60fa-4d9d-e4b7-e8723a86a977"
      },
      "outputs": [
        {
          "output_type": "execute_result",
          "data": {
            "text/plain": [
              "     Number of Units  Manufacturing Cost\n",
              "5           1.307435          100.000000\n",
              "981         7.503608           24.799148\n",
              "920         6.356890           29.910470\n",
              "458         4.302063           38.896746\n",
              "136         3.049856           54.462176\n",
              "227         3.426827           36.112219\n",
              "123         2.947365           34.432251\n",
              "702         5.173123           35.105315\n",
              "31          1.895731           52.114125\n",
              "138         3.054662           49.060484"
            ],
            "text/html": [
              "\n",
              "  <div id=\"df-8cb94b5b-1c37-4730-aeec-f3c0c5887000\">\n",
              "    <div class=\"colab-df-container\">\n",
              "      <div>\n",
              "<style scoped>\n",
              "    .dataframe tbody tr th:only-of-type {\n",
              "        vertical-align: middle;\n",
              "    }\n",
              "\n",
              "    .dataframe tbody tr th {\n",
              "        vertical-align: top;\n",
              "    }\n",
              "\n",
              "    .dataframe thead th {\n",
              "        text-align: right;\n",
              "    }\n",
              "</style>\n",
              "<table border=\"1\" class=\"dataframe\">\n",
              "  <thead>\n",
              "    <tr style=\"text-align: right;\">\n",
              "      <th></th>\n",
              "      <th>Number of Units</th>\n",
              "      <th>Manufacturing Cost</th>\n",
              "    </tr>\n",
              "  </thead>\n",
              "  <tbody>\n",
              "    <tr>\n",
              "      <th>5</th>\n",
              "      <td>1.307435</td>\n",
              "      <td>100.000000</td>\n",
              "    </tr>\n",
              "    <tr>\n",
              "      <th>981</th>\n",
              "      <td>7.503608</td>\n",
              "      <td>24.799148</td>\n",
              "    </tr>\n",
              "    <tr>\n",
              "      <th>920</th>\n",
              "      <td>6.356890</td>\n",
              "      <td>29.910470</td>\n",
              "    </tr>\n",
              "    <tr>\n",
              "      <th>458</th>\n",
              "      <td>4.302063</td>\n",
              "      <td>38.896746</td>\n",
              "    </tr>\n",
              "    <tr>\n",
              "      <th>136</th>\n",
              "      <td>3.049856</td>\n",
              "      <td>54.462176</td>\n",
              "    </tr>\n",
              "    <tr>\n",
              "      <th>227</th>\n",
              "      <td>3.426827</td>\n",
              "      <td>36.112219</td>\n",
              "    </tr>\n",
              "    <tr>\n",
              "      <th>123</th>\n",
              "      <td>2.947365</td>\n",
              "      <td>34.432251</td>\n",
              "    </tr>\n",
              "    <tr>\n",
              "      <th>702</th>\n",
              "      <td>5.173123</td>\n",
              "      <td>35.105315</td>\n",
              "    </tr>\n",
              "    <tr>\n",
              "      <th>31</th>\n",
              "      <td>1.895731</td>\n",
              "      <td>52.114125</td>\n",
              "    </tr>\n",
              "    <tr>\n",
              "      <th>138</th>\n",
              "      <td>3.054662</td>\n",
              "      <td>49.060484</td>\n",
              "    </tr>\n",
              "  </tbody>\n",
              "</table>\n",
              "</div>\n",
              "      <button class=\"colab-df-convert\" onclick=\"convertToInteractive('df-8cb94b5b-1c37-4730-aeec-f3c0c5887000')\"\n",
              "              title=\"Convert this dataframe to an interactive table.\"\n",
              "              style=\"display:none;\">\n",
              "        \n",
              "  <svg xmlns=\"http://www.w3.org/2000/svg\" height=\"24px\"viewBox=\"0 0 24 24\"\n",
              "       width=\"24px\">\n",
              "    <path d=\"M0 0h24v24H0V0z\" fill=\"none\"/>\n",
              "    <path d=\"M18.56 5.44l.94 2.06.94-2.06 2.06-.94-2.06-.94-.94-2.06-.94 2.06-2.06.94zm-11 1L8.5 8.5l.94-2.06 2.06-.94-2.06-.94L8.5 2.5l-.94 2.06-2.06.94zm10 10l.94 2.06.94-2.06 2.06-.94-2.06-.94-.94-2.06-.94 2.06-2.06.94z\"/><path d=\"M17.41 7.96l-1.37-1.37c-.4-.4-.92-.59-1.43-.59-.52 0-1.04.2-1.43.59L10.3 9.45l-7.72 7.72c-.78.78-.78 2.05 0 2.83L4 21.41c.39.39.9.59 1.41.59.51 0 1.02-.2 1.41-.59l7.78-7.78 2.81-2.81c.8-.78.8-2.07 0-2.86zM5.41 20L4 18.59l7.72-7.72 1.47 1.35L5.41 20z\"/>\n",
              "  </svg>\n",
              "      </button>\n",
              "      \n",
              "  <style>\n",
              "    .colab-df-container {\n",
              "      display:flex;\n",
              "      flex-wrap:wrap;\n",
              "      gap: 12px;\n",
              "    }\n",
              "\n",
              "    .colab-df-convert {\n",
              "      background-color: #E8F0FE;\n",
              "      border: none;\n",
              "      border-radius: 50%;\n",
              "      cursor: pointer;\n",
              "      display: none;\n",
              "      fill: #1967D2;\n",
              "      height: 32px;\n",
              "      padding: 0 0 0 0;\n",
              "      width: 32px;\n",
              "    }\n",
              "\n",
              "    .colab-df-convert:hover {\n",
              "      background-color: #E2EBFA;\n",
              "      box-shadow: 0px 1px 2px rgba(60, 64, 67, 0.3), 0px 1px 3px 1px rgba(60, 64, 67, 0.15);\n",
              "      fill: #174EA6;\n",
              "    }\n",
              "\n",
              "    [theme=dark] .colab-df-convert {\n",
              "      background-color: #3B4455;\n",
              "      fill: #D2E3FC;\n",
              "    }\n",
              "\n",
              "    [theme=dark] .colab-df-convert:hover {\n",
              "      background-color: #434B5C;\n",
              "      box-shadow: 0px 1px 3px 1px rgba(0, 0, 0, 0.15);\n",
              "      filter: drop-shadow(0px 1px 2px rgba(0, 0, 0, 0.3));\n",
              "      fill: #FFFFFF;\n",
              "    }\n",
              "  </style>\n",
              "\n",
              "      <script>\n",
              "        const buttonEl =\n",
              "          document.querySelector('#df-8cb94b5b-1c37-4730-aeec-f3c0c5887000 button.colab-df-convert');\n",
              "        buttonEl.style.display =\n",
              "          google.colab.kernel.accessAllowed ? 'block' : 'none';\n",
              "\n",
              "        async function convertToInteractive(key) {\n",
              "          const element = document.querySelector('#df-8cb94b5b-1c37-4730-aeec-f3c0c5887000');\n",
              "          const dataTable =\n",
              "            await google.colab.kernel.invokeFunction('convertToInteractive',\n",
              "                                                     [key], {});\n",
              "          if (!dataTable) return;\n",
              "\n",
              "          const docLinkHtml = 'Like what you see? Visit the ' +\n",
              "            '<a target=\"_blank\" href=https://colab.research.google.com/notebooks/data_table.ipynb>data table notebook</a>'\n",
              "            + ' to learn more about interactive tables.';\n",
              "          element.innerHTML = '';\n",
              "          dataTable['output_type'] = 'display_data';\n",
              "          await google.colab.output.renderOutput(dataTable, element);\n",
              "          const docLink = document.createElement('div');\n",
              "          docLink.innerHTML = docLinkHtml;\n",
              "          element.appendChild(docLink);\n",
              "        }\n",
              "      </script>\n",
              "    </div>\n",
              "  </div>\n",
              "  "
            ]
          },
          "metadata": {},
          "execution_count": 2
        }
      ],
      "source": [
        "df = pd.read_csv('https://raw.githubusercontent.com/marypazrf/bdd/main/EconomiesOfScale.csv')\n",
        "df.sample(10)"
      ]
    },
    {
      "cell_type": "code",
      "source": [
        "X = df[['Number of Units']]\n",
        "y = df[['Manufacturing Cost']]"
      ],
      "metadata": {
        "id": "5uZQ_m3v3B_m"
      },
      "execution_count": 3,
      "outputs": []
    },
    {
      "cell_type": "code",
      "source": [
        "print(f'Tamaños \\nX: {X.shape} \\ny: {y.shape}')"
      ],
      "metadata": {
        "colab": {
          "base_uri": "https://localhost:8080/"
        },
        "id": "EPbFHmfV3WA8",
        "outputId": "a749e8d5-7963-4930-b11a-0f0edb91468e"
      },
      "execution_count": 4,
      "outputs": [
        {
          "output_type": "stream",
          "name": "stdout",
          "text": [
            "Tamaños \n",
            "X: (1000, 1) \n",
            "y: (1000, 1)\n"
          ]
        }
      ]
    },
    {
      "cell_type": "markdown",
      "source": [
        "Gráfico de las features y salida completas"
      ],
      "metadata": {
        "id": "yxvB5sAJ4Epo"
      }
    },
    {
      "cell_type": "code",
      "source": [
        "plt.plot(X,y,'b.')"
      ],
      "metadata": {
        "colab": {
          "base_uri": "https://localhost:8080/",
          "height": 282
        },
        "id": "GxAbSgLb3s4l",
        "outputId": "6717fdba-edb1-43ff-98f1-dec0047dc5bc"
      },
      "execution_count": 5,
      "outputs": [
        {
          "output_type": "execute_result",
          "data": {
            "text/plain": [
              "[<matplotlib.lines.Line2D at 0x7f6e66326b90>]"
            ]
          },
          "metadata": {},
          "execution_count": 5
        },
        {
          "output_type": "display_data",
          "data": {
            "text/plain": [
              "<Figure size 432x288 with 1 Axes>"
            ],
            "image/png": "[encoded data removed]"
          },
          "metadata": {
            "needs_background": "light"
          }
        }
      ]
    },
    {
      "cell_type": "markdown",
      "source": [
        "### Dividiendo los datos del costo de manufacatura"
      ],
      "metadata": {
        "id": "iA0obAhi4QhW"
      }
    },
    {
      "cell_type": "code",
      "source": [
        "#Usaremos la función train_test_split() para dividir nuestros datos\n",
        "X_train, X_test, y_train, y_test = train_test_split(X, y, test_size = 0.2, random_state = 42)\n"
      ],
      "metadata": {
        "id": "z35yTlkG4NWS"
      },
      "execution_count": 6,
      "outputs": []
    },
    {
      "cell_type": "markdown",
      "source": [
        "Listas con resultados de MAE y r2"
      ],
      "metadata": {
        "id": "xxN41Nh6icaU"
      }
    },
    {
      "cell_type": "code",
      "source": [
        "lista_para_mae =[] #Lista para almacenar los valores de resultado MAE\n",
        "lista_para_r2 =[] #Lista para almacenar los valores de resultado R2"
      ],
      "metadata": {
        "id": "LbdY67ed4bDJ"
      },
      "execution_count": 7,
      "outputs": []
    },
    {
      "cell_type": "markdown",
      "source": [
        "Definimos una función que traiga de vuelta los resultados de predicción"
      ],
      "metadata": {
        "id": "XanVQ9ZticaV"
      }
    },
    {
      "cell_type": "code",
      "source": [
        "def results_pred(y_t, y_modelo_prediction):\n",
        "  #Calculamos el valor de Error Medio Absoluto (MAE) y R2\n",
        "  mae = metrics.mean_absolute_error(y_t,y_modelo_prediction)\n",
        "  r2= r2_score(y_t,y_modelo_prediction)\n",
        "\n",
        "  #Agregamos los valores a nuestras listas\n",
        "  lista_para_mae.append(mae) \n",
        "  lista_para_r2.append(r2)\n",
        "\n",
        "  #Los errores\n",
        "  print('Error medio Absoluto (MAE):', mae)\n",
        "  print('Root Mean Squared Error (RMSE):', np.sqrt(metrics.mean_squared_error(y_t,y_modelo_prediction)))\n",
        "\n",
        "  #La r cuadrada\n",
        "  print('r2_score', r2)"
      ],
      "metadata": {
        "id": "W1IuJkNWicaX"
      },
      "execution_count": 8,
      "outputs": []
    },
    {
      "cell_type": "markdown",
      "source": [
        "Realizamos una distribución 80-20:\n",
        "\n",
        "* 80 train\n",
        "* 20 test"
      ],
      "metadata": {
        "id": "dVHydvUq45gx"
      }
    },
    {
      "cell_type": "code",
      "source": [
        "print(X_train.shape)\n",
        "print(X_test.shape)\n",
        "print('-'*15)\n",
        "print(y_train.shape)\n",
        "print(y_test.shape)"
      ],
      "metadata": {
        "colab": {
          "base_uri": "https://localhost:8080/"
        },
        "id": "KyCqRN5s4zdr",
        "outputId": "e8e4ab4a-75c6-4122-97b7-22ad4cc78569"
      },
      "execution_count": 9,
      "outputs": [
        {
          "output_type": "stream",
          "name": "stdout",
          "text": [
            "(800, 1)\n",
            "(200, 1)\n",
            "---------------\n",
            "(800, 1)\n",
            "(200, 1)\n"
          ]
        }
      ]
    },
    {
      "cell_type": "markdown",
      "source": [
        "### Regresión Lineal"
      ],
      "metadata": {
        "id": "wYMVdV0m5SN7"
      }
    },
    {
      "cell_type": "code",
      "source": [
        "#Definimos el objeto que almacenará el método de Regresión Lineal\n",
        "lr = LinearRegression(fit_intercept=True)\n",
        "#Ajustamos el modelo a los datos de entrenamiento\n",
        "lr.fit(X_train, y_train)\n",
        "\n",
        "#Preparamos las variables de prueba (test) para realizar la predicción\n",
        "X_lr = X_test  #Aqui recordemos que se hace con los de prueba, no con los de entrenamiento\n",
        "y_lr = lr.predict(X_lr)\n",
        "\n",
        "#Gráfico de dispersión (Scatter) para ver la distribución de los datos de prueba\n",
        "plt.scatter(X_test, y_test)\n",
        "\n",
        "#Línea de predicción\n",
        "plt.plot(X_lr, y_lr, 'r-', linewidth=2, label='Predicciones')\n",
        "plt.xlabel(\"$X$\", fontsize=16)\n",
        "plt.ylabel(\"$y$\", rotation=0, fontsize=16)\n",
        "plt.legend(loc=\"upper left\", fontsize=12);\n",
        "plt.title(label = 'Regresión Lineal Test')\n",
        "plt.axis([0, 10, 0, 90]);"
      ],
      "metadata": {
        "colab": {
          "base_uri": "https://localhost:8080/",
          "height": 301
        },
        "id": "vshWC-y744ra",
        "outputId": "f2e07d1a-8e34-49d3-d213-6222fd3256ff"
      },
      "execution_count": 10,
      "outputs": [
        {
          "output_type": "display_data",
          "data": {
            "text/plain": [
              "<Figure size 432x288 with 1 Axes>"
            ],
            "image/png": "[encoded data removed]"
          },
          "metadata": {
            "needs_background": "light"
          }
        }
      ]
    },
    {
      "cell_type": "markdown",
      "source": [
        "La línea de predicción abarca una gran parte de los datos de muestra, sin embargo, la única forma de ver numericamente este resultado es calculando sus errores y r2. Aún así vemos que la distribución de los datos se mantiene entre los valores en X del 3 al 6."
      ],
      "metadata": {
        "id": "ATob50C67B8e"
      }
    },
    {
      "cell_type": "code",
      "source": [
        "#Ecuación del modelo\n",
        "print(f' y=  {lr.coef_}X + {lr.intercept_}')"
      ],
      "metadata": {
        "colab": {
          "base_uri": "https://localhost:8080/"
        },
        "id": "2Qg8iW8u6sak",
        "outputId": "d6227702-4183-464f-b8fe-254387bedae7"
      },
      "execution_count": 11,
      "outputs": [
        {
          "output_type": "stream",
          "name": "stdout",
          "text": [
            " y=  [[-6.21850698]]X + [67.89012909]\n"
          ]
        }
      ]
    },
    {
      "cell_type": "markdown",
      "source": [
        "$\\hat{y} = -6.22X + 67.89$"
      ],
      "metadata": {
        "id": "tK1xoF_X8VWe"
      }
    },
    {
      "cell_type": "code",
      "source": [
        "results_pred(y_test, y_lr)"
      ],
      "metadata": {
        "colab": {
          "base_uri": "https://localhost:8080/"
        },
        "id": "gnhFbvn3isaP",
        "outputId": "a89d749e-32e8-4ae4-dbb5-9e0f6b02ccff"
      },
      "execution_count": 12,
      "outputs": [
        {
          "output_type": "stream",
          "name": "stdout",
          "text": [
            "Error medio Absoluto (MAE): 4.513943834797746\n",
            "Root Mean Squared Error (RMSE): 5.932738736518161\n",
            "r2_score 0.5695897011831419\n"
          ]
        }
      ]
    },
    {
      "cell_type": "markdown",
      "source": [
        "El modelo tiene un r2_score del **0.57**, por lo que no se ajusta con un índice alto a nuestro set de datos prueba. Esto se ve reflejado en el gráfico, debido a que los  valores de X entre el 7 y el 9 tienen muy pocos números de muestras y están distribuidas con mayor variación que los valores de X de 3 a 6."
      ],
      "metadata": {
        "id": "P1Pqrz7p9Kef"
      }
    },
    {
      "cell_type": "markdown",
      "source": [
        "### Regresión Polinomial"
      ],
      "metadata": {
        "id": "8o15advK-t8j"
      }
    },
    {
      "cell_type": "code",
      "source": [
        "#Definimos el objeto que almacenará el método de Regresión Polinomial\n",
        "pr = PolynomialFeatures(degree=2, include_bias=False)\n",
        "#Ajustamos el modelo a los datos de entrenamiento\n",
        "caracteristicas = pr.fit_transform(X_train)\n",
        "pr_ = LinearRegression(fit_intercept=True)\n",
        "pr_.fit(caracteristicas, y_train)"
      ],
      "metadata": {
        "colab": {
          "base_uri": "https://localhost:8080/"
        },
        "id": "SK-Bl38nEVvW",
        "outputId": "b9a16058-ca2d-4edb-8f8f-c19b0cb3fd4b"
      },
      "execution_count": 13,
      "outputs": [
        {
          "output_type": "execute_result",
          "data": {
            "text/plain": [
              "LinearRegression()"
            ]
          },
          "metadata": {},
          "execution_count": 13
        }
      ]
    },
    {
      "cell_type": "code",
      "source": [
        "pr_.coef_, pr_.intercept_"
      ],
      "metadata": {
        "colab": {
          "base_uri": "https://localhost:8080/"
        },
        "id": "Qy6xCHRsBNRh",
        "outputId": "d7f333d2-4aed-4b04-8c39-8526ebefb31b"
      },
      "execution_count": 14,
      "outputs": [
        {
          "output_type": "execute_result",
          "data": {
            "text/plain": [
              "(array([[-17.81636965,   1.27181952]]), array([92.03582035]))"
            ]
          },
          "metadata": {},
          "execution_count": 14
        }
      ]
    },
    {
      "cell_type": "code",
      "source": [
        "#Preparamos las variables de prueba (test) para realizar la predicción\n",
        "X_pr = pr.fit_transform(X_test)  #Aqui recordemos que se hace con los de prueba, no con los de entrenamiento\n",
        "y_pr = pr_.predict(X_pr)\n",
        "print(X_pr.shape)\n",
        "print(y_pr.shape)"
      ],
      "metadata": {
        "colab": {
          "base_uri": "https://localhost:8080/"
        },
        "id": "Q5kn29hKEXwD",
        "outputId": "651d683c-ab4d-42bd-f7cb-4d31ff924d3b"
      },
      "execution_count": 15,
      "outputs": [
        {
          "output_type": "stream",
          "name": "stdout",
          "text": [
            "(200, 2)\n",
            "(200, 1)\n"
          ]
        }
      ]
    },
    {
      "cell_type": "code",
      "source": [
        "#Ordenamos los datos\n",
        "orden = np.argsort(X_test.values.ravel()) #Sacamos el ordende los datos\n",
        "\n",
        "orden_X = X_test.values.ravel()[orden] \n",
        "orden_y = y_test.values.ravel()[orden]\n",
        "\n",
        "sorted_predicPoly = y_pr[orden]\n",
        "\n",
        "#Gráfico de dispersión (Scatter) para ver la distribución de los datos de prueba\n",
        "plt.scatter(X_test, y_test)\n",
        "\n",
        "#Línea de predicción\n",
        "plt.plot(orden_X, sorted_predicPoly, 'r-', linewidth=2, label='Predicciones')\n",
        "plt.xlabel(\"$X$\", fontsize=16)\n",
        "plt.ylabel(\"$y$\", rotation=0, fontsize=16)\n",
        "plt.legend(loc=\"upper left\", fontsize=12);\n",
        "plt.title(label = 'Regresión Polinomial Test')\n",
        "plt.axis([0, 10, 0, 90]);"
      ],
      "metadata": {
        "colab": {
          "base_uri": "https://localhost:8080/",
          "height": 301
        },
        "id": "cuuhE4E09FMg",
        "outputId": "9f9eeffe-ec7a-4ea4-c640-a5b491ad4693"
      },
      "execution_count": 16,
      "outputs": [
        {
          "output_type": "display_data",
          "data": {
            "text/plain": [
              "<Figure size 432x288 with 1 Axes>"
            ],
            "image/png": "[encoded data removed]"
          },
          "metadata": {
            "needs_background": "light"
          }
        }
      ]
    },
    {
      "cell_type": "code",
      "source": [
        "#Ecuación del modelo\n",
        "print(f' y=  {pr_.coef_[0,1]} X^2 + {pr_.coef_[0,0]} X + {pr_.intercept_[0]}')"
      ],
      "metadata": {
        "colab": {
          "base_uri": "https://localhost:8080/"
        },
        "outputId": "70b2e81b-f1fb-496c-93c6-7eabf94bee3a",
        "id": "sXFdCAhqIp6s"
      },
      "execution_count": 17,
      "outputs": [
        {
          "output_type": "stream",
          "name": "stdout",
          "text": [
            " y=  1.2718195213149832 X^2 + -17.81636965261764 X + 92.03582034949117\n"
          ]
        }
      ]
    },
    {
      "cell_type": "markdown",
      "source": [
        "$\\hat{y} = 1.27X^2 -17.81X + 92.03 $"
      ],
      "metadata": {
        "id": "vucF9izWIp6t"
      }
    },
    {
      "cell_type": "code",
      "source": [
        "results_pred(y_test, y_pr)"
      ],
      "metadata": {
        "colab": {
          "base_uri": "https://localhost:8080/"
        },
        "id": "Dwu_DckVizfq",
        "outputId": "16811b69-fe98-4538-c594-3562b0bee86a"
      },
      "execution_count": 18,
      "outputs": [
        {
          "output_type": "stream",
          "name": "stdout",
          "text": [
            "Error medio Absoluto (MAE): 4.372292708304972\n",
            "Root Mean Squared Error (RMSE): 5.764249049866789\n",
            "r2_score 0.5936898412489064\n"
          ]
        }
      ]
    },
    {
      "cell_type": "markdown",
      "source": [
        "### Regresión con Ridge"
      ],
      "metadata": {
        "id": "IjDYdyC6HoCC"
      }
    },
    {
      "cell_type": "code",
      "source": [
        "#Definimos el objeto que almacenará el método de Regresión Lineal\n",
        "rr = Ridge(alpha=5.0, fit_intercept=True)\n",
        "#Ajustamos el modelo a los datos de entrenamiento\n",
        "rr.fit(X_train, y_train)\n",
        "\n",
        "#Preparamos las variables de prueba (test) para realizar la predicción\n",
        "X_rr = X_test\n",
        "y_rr = rr.predict(X_rr)\n",
        "\n",
        "#Gráfico de dispersión (Scatter) para ver la distribución de los datos de prueba\n",
        "plt.scatter(X_test, y_test)\n",
        "\n",
        "#Línea de predicción\n",
        "plt.plot(X_rr, y_rr, 'r-', linewidth=2, label='Predicciones')\n",
        "plt.xlabel(\"$X$\", fontsize=16)\n",
        "plt.ylabel(\"$y$\", rotation=0, fontsize=16)\n",
        "plt.legend(loc=\"upper left\", fontsize=12);\n",
        "plt.title(label = 'Regresión Ridge Test')\n",
        "plt.axis([0, 10, 0, 90]);"
      ],
      "metadata": {
        "colab": {
          "base_uri": "https://localhost:8080/",
          "height": 301
        },
        "id": "5TCudw2KHZpK",
        "outputId": "903358ca-7b58-45fa-c7e0-0af60e37a32e"
      },
      "execution_count": 19,
      "outputs": [
        {
          "output_type": "display_data",
          "data": {
            "text/plain": [
              "<Figure size 432x288 with 1 Axes>"
            ],
            "image/png": "[encoded data removed]"
          },
          "metadata": {
            "needs_background": "light"
          }
        }
      ]
    },
    {
      "cell_type": "markdown",
      "source": [],
      "metadata": {
        "id": "bzgJGRMJN2td"
      }
    },
    {
      "cell_type": "code",
      "source": [
        "#Ecuación del modelo\n",
        "print(f' y=  {rr.coef_[0,0]} X + {rr.intercept_[0]}')"
      ],
      "metadata": {
        "colab": {
          "base_uri": "https://localhost:8080/"
        },
        "outputId": "6e09e1e6-8098-41d4-a408-5ad0fd267469",
        "id": "53hyHbtBN3aQ"
      },
      "execution_count": 20,
      "outputs": [
        {
          "output_type": "stream",
          "name": "stdout",
          "text": [
            " y=  -6.196917757577494 X + 67.79389388826765\n"
          ]
        }
      ]
    },
    {
      "cell_type": "markdown",
      "source": [
        "$\\hat{y} = -6.19X + 67.79$"
      ],
      "metadata": {
        "id": "6FHnLlDTN3aQ"
      }
    },
    {
      "cell_type": "code",
      "source": [
        "results_pred(y_test, y_rr)"
      ],
      "metadata": {
        "colab": {
          "base_uri": "https://localhost:8080/"
        },
        "id": "ryDOvj6-i4nA",
        "outputId": "5fb10dce-7319-4ab6-b712-7800d5882343"
      },
      "execution_count": 21,
      "outputs": [
        {
          "output_type": "stream",
          "name": "stdout",
          "text": [
            "Error medio Absoluto (MAE): 4.510020657963267\n",
            "Root Mean Squared Error (RMSE): 5.92680190097749\n",
            "r2_score 0.5704506852084535\n"
          ]
        }
      ]
    },
    {
      "cell_type": "markdown",
      "source": [
        "### Regresión con Lasso"
      ],
      "metadata": {
        "id": "Ql8VtgfdNyFu"
      }
    },
    {
      "cell_type": "code",
      "source": [
        "#Definimos el objeto que almacenará el método Lasso\n",
        "rl = Lasso(alpha=4.5, fit_intercept=True)\n",
        "#Ajustamos el modelo a los datos de entrenamiento\n",
        "rl.fit(X_train, y_train)\n",
        "\n",
        "#Preparamos las variables de prueba (test) para realizar la predicción\n",
        "X_rl = X_test\n",
        "y_rl = rl.predict(X_rl)\n",
        "\n",
        "#Gráfico de dispersión (Scatter) para ver la distribución de los datos de prueba\n",
        "plt.scatter(X_test, y_test)\n",
        "\n",
        "#Línea de predicción\n",
        "plt.plot(X_rl, y_rl, 'r-', linewidth=2, label='Predicciones')\n",
        "plt.xlabel(\"$X$\", fontsize=16)\n",
        "plt.ylabel(\"$y$\", rotation=0, fontsize=16)\n",
        "plt.legend(loc=\"upper left\", fontsize=12);\n",
        "plt.title(label = 'Regresión Lasso Test')\n",
        "plt.axis([0, 10, 0, 90]);"
      ],
      "metadata": {
        "colab": {
          "base_uri": "https://localhost:8080/",
          "height": 301
        },
        "id": "Cvb-K-WNOmBV",
        "outputId": "d1bc0883-aaae-468f-faae-9e944a270ff7"
      },
      "execution_count": 22,
      "outputs": [
        {
          "output_type": "display_data",
          "data": {
            "text/plain": [
              "<Figure size 432x288 with 1 Axes>"
            ],
            "image/png": "[encoded data removed]"
          },
          "metadata": {
            "needs_background": "light"
          }
        }
      ]
    },
    {
      "cell_type": "code",
      "source": [
        "#Ecuación del modelo\n",
        "print(f' y=  {rl.coef_[0]} X + {rl.intercept_[0]}')"
      ],
      "metadata": {
        "colab": {
          "base_uri": "https://localhost:8080/"
        },
        "outputId": "3501a4c4-d85c-469d-e632-a2cda309ff13",
        "id": "US3cgDtNZxdK"
      },
      "execution_count": 23,
      "outputs": [
        {
          "output_type": "stream",
          "name": "stdout",
          "text": [
            " y=  -3.7101246549023053 X + 56.7088702004901\n"
          ]
        }
      ]
    },
    {
      "cell_type": "markdown",
      "source": [
        "$\\hat{y} = -3.71X + 56.71$"
      ],
      "metadata": {
        "id": "oPnvU8ckZxdK"
      }
    },
    {
      "cell_type": "code",
      "source": [
        "results_pred(y_test, y_rl)"
      ],
      "metadata": {
        "colab": {
          "base_uri": "https://localhost:8080/"
        },
        "id": "TwGOxe5-i71N",
        "outputId": "659d7f73-d3db-4794-dfcb-ee0b72027fd3"
      },
      "execution_count": 24,
      "outputs": [
        {
          "output_type": "stream",
          "name": "stdout",
          "text": [
            "Error medio Absoluto (MAE): 4.607722961453652\n",
            "Root Mean Squared Error (RMSE): 6.1559441506246095\n",
            "r2_score 0.5365941097353752\n"
          ]
        }
      ]
    },
    {
      "cell_type": "markdown",
      "source": [
        "### Resultados Regresión"
      ],
      "metadata": {
        "id": "EiDkfQLkakrB"
      }
    },
    {
      "cell_type": "code",
      "source": [
        "#Listas con resultados\n",
        "print(lista_para_mae)\n",
        "print(lista_para_r2)"
      ],
      "metadata": {
        "colab": {
          "base_uri": "https://localhost:8080/"
        },
        "id": "DTM9JSolQoN8",
        "outputId": "b8d9bd56-ab04-474e-9454-1b1402404727"
      },
      "execution_count": 25,
      "outputs": [
        {
          "output_type": "stream",
          "name": "stdout",
          "text": [
            "[4.513943834797746, 4.372292708304972, 4.510020657963267, 4.607722961453652]\n",
            "[0.5695897011831419, 0.5936898412489064, 0.5704506852084535, 0.5365941097353752]\n"
          ]
        }
      ]
    },
    {
      "cell_type": "code",
      "source": [
        "#Grafico de mae\n",
        "nombres=list()\n",
        "nombres.append('RL')\n",
        "nombres.append('RLP')\n",
        "nombres.append('Ridge')\n",
        "nombres.append('Lasso')\n",
        "\n",
        "plt.bar(nombres, lista_para_mae)\n",
        "plt.show()\n"
      ],
      "metadata": {
        "colab": {
          "base_uri": "https://localhost:8080/",
          "height": 265
        },
        "id": "mqKXtXQFQ0Sm",
        "outputId": "7fcb72cf-a154-409b-95f6-ba44c7dcee8b"
      },
      "execution_count": 26,
      "outputs": [
        {
          "output_type": "display_data",
          "data": {
            "text/plain": [
              "<Figure size 432x288 with 1 Axes>"
            ],
            "image/png": "[encoded data removed]"
          },
          "metadata": {
            "needs_background": "light"
          }
        }
      ]
    },
    {
      "cell_type": "code",
      "source": [
        "#Grafico de r cuadrada\n",
        "nombres=list()\n",
        "nombres.append('RL')\n",
        "nombres.append('RLP')\n",
        "nombres.append('Ridge')\n",
        "nombres.append('Lasso')\n",
        "\n",
        "plt.bar(nombres, lista_para_r2)\n",
        "plt.show()\n"
      ],
      "metadata": {
        "colab": {
          "base_uri": "https://localhost:8080/",
          "height": 265
        },
        "id": "CKvt07AzQ7S5",
        "outputId": "6ef66bca-742f-448a-d32c-a57ae8a1d4ba"
      },
      "execution_count": 27,
      "outputs": [
        {
          "output_type": "display_data",
          "data": {
            "text/plain": [
              "<Figure size 432x288 with 1 Axes>"
            ],
            "image/png": "[encoded data removed]"
          },
          "metadata": {
            "needs_background": "light"
          }
        }
      ]
    },
    {
      "cell_type": "code",
      "source": [
        "y_lr.shape"
      ],
      "metadata": {
        "colab": {
          "base_uri": "https://localhost:8080/"
        },
        "id": "G6G17phZTRkj",
        "outputId": "668006b8-0e2b-4931-c3fb-8af20f986678"
      },
      "execution_count": 28,
      "outputs": [
        {
          "output_type": "execute_result",
          "data": {
            "text/plain": [
              "(200, 1)"
            ]
          },
          "metadata": {},
          "execution_count": 28
        }
      ]
    },
    {
      "cell_type": "code",
      "source": [
        "y_pr.shape"
      ],
      "metadata": {
        "colab": {
          "base_uri": "https://localhost:8080/"
        },
        "id": "Ej07zZNWTU7s",
        "outputId": "026d1208-8964-497d-a1d8-bb85cce7b2f1"
      },
      "execution_count": 29,
      "outputs": [
        {
          "output_type": "execute_result",
          "data": {
            "text/plain": [
              "(200, 1)"
            ]
          },
          "metadata": {},
          "execution_count": 29
        }
      ]
    },
    {
      "cell_type": "code",
      "source": [
        "y_rr.shape"
      ],
      "metadata": {
        "colab": {
          "base_uri": "https://localhost:8080/"
        },
        "id": "zjx5ec62TY-C",
        "outputId": "c523d581-1748-48aa-b2c2-8fd75b8a4a21"
      },
      "execution_count": 30,
      "outputs": [
        {
          "output_type": "execute_result",
          "data": {
            "text/plain": [
              "(200, 1)"
            ]
          },
          "metadata": {},
          "execution_count": 30
        }
      ]
    },
    {
      "cell_type": "code",
      "source": [
        "y_rl.shape"
      ],
      "metadata": {
        "colab": {
          "base_uri": "https://localhost:8080/"
        },
        "id": "yY5rVrMlTPUB",
        "outputId": "43964935-5f48-456c-e1f5-1c5fc9e69828"
      },
      "execution_count": 31,
      "outputs": [
        {
          "output_type": "execute_result",
          "data": {
            "text/plain": [
              "(200,)"
            ]
          },
          "metadata": {},
          "execution_count": 31
        }
      ]
    },
    {
      "cell_type": "code",
      "source": [
        "y_rl = np.reshape(y_rl,[200,1])"
      ],
      "metadata": {
        "id": "kIYc7uB-UUGV"
      },
      "execution_count": 32,
      "outputs": []
    },
    {
      "cell_type": "code",
      "source": [
        "y_rl.shape"
      ],
      "metadata": {
        "colab": {
          "base_uri": "https://localhost:8080/"
        },
        "id": "ePraTYr6VHXA",
        "outputId": "db3dc771-b2df-4be2-c876-a897b34622dd"
      },
      "execution_count": 33,
      "outputs": [
        {
          "output_type": "execute_result",
          "data": {
            "text/plain": [
              "(200, 1)"
            ]
          },
          "metadata": {},
          "execution_count": 33
        }
      ]
    },
    {
      "cell_type": "code",
      "source": [
        "residuo_regresion_simple=np.array(y_lr - y_test)\n",
        "residuo_regresion_poliforme= np.array(y_pr - y_test)\n",
        "residuo_ridge=np.array(y_rr - y_test)\n",
        "residuo_lasso=np.array(y_rl - y_test)\n",
        "\n",
        "lista_residuos = [residuo_regresion_simple.ravel(),residuo_regresion_poliforme.ravel(),residuo_ridge.ravel(),residuo_lasso.ravel()]\n",
        "\n",
        "nombres=list()\n",
        "nombres.append('Lineal')\n",
        "nombres.append('Polinomial')\n",
        "nombres.append('Ridge')\n",
        "nombres.append('Lasso')\n",
        "\n",
        "#grafica del MAE (de los cuatro métodos)\n",
        "sns.set(rc={'figure.figsize':(10,6)})\n",
        "\n",
        "plt.boxplot(lista_residuos, labels=nombres, showmeans=True)\n",
        "plt.show()"
      ],
      "metadata": {
        "colab": {
          "base_uri": "https://localhost:8080/",
          "height": 377
        },
        "id": "k6Mdk7a_Q9vD",
        "outputId": "00830dd9-e009-4ad3-ae5a-92c9d04ff786"
      },
      "execution_count": 34,
      "outputs": [
        {
          "output_type": "display_data",
          "data": {
            "text/plain": [
              "<Figure size 720x432 with 1 Axes>"
            ],
            "image/png": "[encoded data removed]"
          },
          "metadata": {}
        }
      ]
    },
    {
      "cell_type": "markdown",
      "source": [
        "### Conclusiones del Ejercicio 1\n",
        "\n",
        "Explica tus resultados, que método conviene más a la empresa, ¿por que?, ¿que porcentajes de entrenamiento y evaluación usaste?, ¿que error tienes?, ¿es bueno?, ¿cómo lo sabes?"
      ],
      "metadata": {
        "id": "Guxj997m3qLz"
      }
    },
    {
      "cell_type": "markdown",
      "source": [
        "> EL método que mejores resultados está presentando es el de **Regresión Polinomial**. Debido a que este tiene un índice más alto de R2, esto se ve reflejado en el gráfico, donde podemos visualizar cómo los datos presentan una ligera curva, la ventaja de utilizar la Regresión Polinomial es que va aplicando estas curvas a nuestra  predicción, pudiendo obtener valores más similares entre la predicción y el test. Por otro lado, el MAE, no nos indica mas que el punto donde se concentra una mayor cantidad de valores.\n",
        "\n",
        "> Usé un porcentaje de entrenaiento de **80%** y de prueba de **20%**, busqué distribuir de esta forma los datos para tener un alto número de entrenamiento y poder evaluar con una considerable muestra de los datos.\n",
        "\n",
        ">Tenemos dos errores. Los cuales nos representan que el mayor conjunto de datos se presenta en los valores cercanos al 5.76, esto con base a los valores presentados en nuestra única feature representada con la variable X. Ambos son errores similares, es donde se concentra la mayor cantidad de muestras.\n",
        "* Error medio Absoluto (MAE): 4.372292708304972\n",
        "* Root Mean Squared Error (RMSE): 5.764249049866789\n",
        "\n",
        ">No es malo, ni bueno. Simplemente nos presenta un panorama de dónde estamos teniendo una mayor concentración de datos, por lo tanto, considerar esta parte para el modelo y para los distintos conjuntos de datos que se llegarían a testear."
      ],
      "metadata": {
        "id": "hOm8AOip3tTZ"
      }
    },
    {
      "cell_type": "markdown",
      "source": [
        "## Ejercicio 2"
      ],
      "metadata": {
        "id": "0GuNmQCCanyc"
      }
    },
    {
      "cell_type": "code",
      "source": [
        "df = pd.read_csv('https://raw.githubusercontent.com/marypazrf/bdd/main/kc_house_data.csv')\n",
        "df.sample(10)"
      ],
      "metadata": {
        "colab": {
          "base_uri": "https://localhost:8080/",
          "height": 456
        },
        "id": "yky0tmpVS1GK",
        "outputId": "47ad7255-105c-4d0d-f810-665850d73e1b"
      },
      "execution_count": 35,
      "outputs": [
        {
          "output_type": "execute_result",
          "data": {
            "text/plain": [
              "               id             date     price  bedrooms  bathrooms  \\\n",
              "1067   1607100139  20140725T000000  250000.0         3       1.00   \n",
              "12513  9144100158  20141229T000000  445000.0         3       1.00   \n",
              "21270  1773100541  20150417T000000  389950.0         3       2.25   \n",
              "12645  7217400650  20150424T000000  458500.0         3       1.50   \n",
              "20907  8562780540  20141222T000000  325000.0         2       2.25   \n",
              "9059   8731900790  20140626T000000  354950.0         4       2.75   \n",
              "10444  1775500310  20150121T000000  455000.0         4       1.75   \n",
              "13989  9528103443  20140724T000000  410000.0         2       1.50   \n",
              "4717   2025049006  20141112T000000  750000.0         7       2.75   \n",
              "3844   2734100734  20141015T000000  216650.0         3       3.50   \n",
              "\n",
              "       sqft_living  sqft_lot  floors  waterfront  view  ...  grade  \\\n",
              "1067          1190      6250     1.0           0     0  ...      7   \n",
              "12513         1260      8910     1.0           0     0  ...      7   \n",
              "21270         1580       920     3.0           0     0  ...      8   \n",
              "12645         1280      1920     1.5           0     0  ...      7   \n",
              "20907         1150       711     2.0           0     0  ...      7   \n",
              "9059          2530      7350     1.0           0     0  ...      8   \n",
              "10444         3060     94089     1.0           0     0  ...      8   \n",
              "13989         1180      1034     2.0           0     0  ...      7   \n",
              "4717          3410      4056     1.5           0     0  ...      8   \n",
              "3844          1540      1427     2.0           0     0  ...      7   \n",
              "\n",
              "       sqft_above  sqft_basement  yr_built  yr_renovated  zipcode      lat  \\\n",
              "1067          990            200      1954             0    98108  47.5658   \n",
              "12513        1260              0      1949             0    98117  47.7000   \n",
              "21270        1580              0      2015             0    98106  47.5578   \n",
              "12645        1280              0      1905          1990    98122  47.6117   \n",
              "20907        1150              0      2013             0    98027  47.5323   \n",
              "9059         1280           1250      1977             0    98023  47.3130   \n",
              "10444        3060              0      1958             0    98072  47.7440   \n",
              "13989        1120             60      2001             0    98115  47.6780   \n",
              "4717         2130           1280      1906             0    98102  47.6454   \n",
              "3844         1360            180      2007             0    98109  47.5420   \n",
              "\n",
              "          long  sqft_living15  sqft_lot15  \n",
              "1067  -122.292           1760        6434  \n",
              "12513 -122.375           1560        8910  \n",
              "21270 -122.363           1250        1150  \n",
              "12645 -122.301           1280        3150  \n",
              "20907 -122.070           1150         748  \n",
              "9059  -122.374           2280        7350  \n",
              "10444 -122.087           2180       43995  \n",
              "13989 -122.322           1137        1034  \n",
              "4717  -122.316           2510        4056  \n",
              "3844  -122.322           1220        4000  \n",
              "\n",
              "[10 rows x 21 columns]"
            ],
            "text/html": [
              "\n",
              "  <div id=\"df-6c1703bb-1b6e-4b0d-a0ea-378909abf6ce\">\n",
              "    <div class=\"colab-df-container\">\n",
              "      <div>\n",
              "<style scoped>\n",
              "    .dataframe tbody tr th:only-of-type {\n",
              "        vertical-align: middle;\n",
              "    }\n",
              "\n",
              "    .dataframe tbody tr th {\n",
              "        vertical-align: top;\n",
              "    }\n",
              "\n",
              "    .dataframe thead th {\n",
              "        text-align: right;\n",
              "    }\n",
              "</style>\n",
              "<table border=\"1\" class=\"dataframe\">\n",
              "  <thead>\n",
              "    <tr style=\"text-align: right;\">\n",
              "      <th></th>\n",
              "      <th>id</th>\n",
              "      <th>date</th>\n",
              "      <th>price</th>\n",
              "      <th>bedrooms</th>\n",
              "      <th>bathrooms</th>\n",
              "      <th>sqft_living</th>\n",
              "      <th>sqft_lot</th>\n",
              "      <th>floors</th>\n",
              "      <th>waterfront</th>\n",
              "      <th>view</th>\n",
              "      <th>...</th>\n",
              "      <th>grade</th>\n",
              "      <th>sqft_above</th>\n",
              "      <th>sqft_basement</th>\n",
              "      <th>yr_built</th>\n",
              "      <th>yr_renovated</th>\n",
              "      <th>zipcode</th>\n",
              "      <th>lat</th>\n",
              "      <th>long</th>\n",
              "      <th>sqft_living15</th>\n",
              "      <th>sqft_lot15</th>\n",
              "    </tr>\n",
              "  </thead>\n",
              "  <tbody>\n",
              "    <tr>\n",
              "      <th>1067</th>\n",
              "      <td>1607100139</td>\n",
              "      <td>20140725T000000</td>\n",
              "      <td>250000.0</td>\n",
              "      <td>3</td>\n",
              "      <td>1.00</td>\n",
              "      <td>1190</td>\n",
              "      <td>6250</td>\n",
              "      <td>1.0</td>\n",
              "      <td>0</td>\n",
              "      <td>0</td>\n",
              "      <td>...</td>\n",
              "      <td>7</td>\n",
              "      <td>990</td>\n",
              "      <td>200</td>\n",
              "      <td>1954</td>\n",
              "      <td>0</td>\n",
              "      <td>98108</td>\n",
              "      <td>47.5658</td>\n",
              "      <td>-122.292</td>\n",
              "      <td>1760</td>\n",
              "      <td>6434</td>\n",
              "    </tr>\n",
              "    <tr>\n",
              "      <th>12513</th>\n",
              "      <td>9144100158</td>\n",
              "      <td>20141229T000000</td>\n",
              "      <td>445000.0</td>\n",
              "      <td>3</td>\n",
              "      <td>1.00</td>\n",
              "      <td>1260</td>\n",
              "      <td>8910</td>\n",
              "      <td>1.0</td>\n",
              "      <td>0</td>\n",
              "      <td>0</td>\n",
              "      <td>...</td>\n",
              "      <td>7</td>\n",
              "      <td>1260</td>\n",
              "      <td>0</td>\n",
              "      <td>1949</td>\n",
              "      <td>0</td>\n",
              "      <td>98117</td>\n",
              "      <td>47.7000</td>\n",
              "      <td>-122.375</td>\n",
              "      <td>1560</td>\n",
              "      <td>8910</td>\n",
              "    </tr>\n",
              "    <tr>\n",
              "      <th>21270</th>\n",
              "      <td>1773100541</td>\n",
              "      <td>20150417T000000</td>\n",
              "      <td>389950.0</td>\n",
              "      <td>3</td>\n",
              "      <td>2.25</td>\n",
              "      <td>1580</td>\n",
              "      <td>920</td>\n",
              "      <td>3.0</td>\n",
              "      <td>0</td>\n",
              "      <td>0</td>\n",
              "      <td>...</td>\n",
              "      <td>8</td>\n",
              "      <td>1580</td>\n",
              "      <td>0</td>\n",
              "      <td>2015</td>\n",
              "      <td>0</td>\n",
              "      <td>98106</td>\n",
              "      <td>47.5578</td>\n",
              "      <td>-122.363</td>\n",
              "      <td>1250</td>\n",
              "      <td>1150</td>\n",
              "    </tr>\n",
              "    <tr>\n",
              "      <th>12645</th>\n",
              "      <td>7217400650</td>\n",
              "      <td>20150424T000000</td>\n",
              "      <td>458500.0</td>\n",
              "      <td>3</td>\n",
              "      <td>1.50</td>\n",
              "      <td>1280</td>\n",
              "      <td>1920</td>\n",
              "      <td>1.5</td>\n",
              "      <td>0</td>\n",
              "      <td>0</td>\n",
              "      <td>...</td>\n",
              "      <td>7</td>\n",
              "      <td>1280</td>\n",
              "      <td>0</td>\n",
              "      <td>1905</td>\n",
              "      <td>1990</td>\n",
              "      <td>98122</td>\n",
              "      <td>47.6117</td>\n",
              "      <td>-122.301</td>\n",
              "      <td>1280</td>\n",
              "      <td>3150</td>\n",
              "    </tr>\n",
              "    <tr>\n",
              "      <th>20907</th>\n",
              "      <td>8562780540</td>\n",
              "      <td>20141222T000000</td>\n",
              "      <td>325000.0</td>\n",
              "      <td>2</td>\n",
              "      <td>2.25</td>\n",
              "      <td>1150</td>\n",
              "      <td>711</td>\n",
              "      <td>2.0</td>\n",
              "      <td>0</td>\n",
              "      <td>0</td>\n",
              "      <td>...</td>\n",
              "      <td>7</td>\n",
              "      <td>1150</td>\n",
              "      <td>0</td>\n",
              "      <td>2013</td>\n",
              "      <td>0</td>\n",
              "      <td>98027</td>\n",
              "      <td>47.5323</td>\n",
              "      <td>-122.070</td>\n",
              "      <td>1150</td>\n",
              "      <td>748</td>\n",
              "    </tr>\n",
              "    <tr>\n",
              "      <th>9059</th>\n",
              "      <td>8731900790</td>\n",
              "      <td>20140626T000000</td>\n",
              "      <td>354950.0</td>\n",
              "      <td>4</td>\n",
              "      <td>2.75</td>\n",
              "      <td>2530</td>\n",
              "      <td>7350</td>\n",
              "      <td>1.0</td>\n",
              "      <td>0</td>\n",
              "      <td>0</td>\n",
              "      <td>...</td>\n",
              "      <td>8</td>\n",
              "      <td>1280</td>\n",
              "      <td>1250</td>\n",
              "      <td>1977</td>\n",
              "      <td>0</td>\n",
              "      <td>98023</td>\n",
              "      <td>47.3130</td>\n",
              "      <td>-122.374</td>\n",
              "      <td>2280</td>\n",
              "      <td>7350</td>\n",
              "    </tr>\n",
              "    <tr>\n",
              "      <th>10444</th>\n",
              "      <td>1775500310</td>\n",
              "      <td>20150121T000000</td>\n",
              "      <td>455000.0</td>\n",
              "      <td>4</td>\n",
              "      <td>1.75</td>\n",
              "      <td>3060</td>\n",
              "      <td>94089</td>\n",
              "      <td>1.0</td>\n",
              "      <td>0</td>\n",
              "      <td>0</td>\n",
              "      <td>...</td>\n",
              "      <td>8</td>\n",
              "      <td>3060</td>\n",
              "      <td>0</td>\n",
              "      <td>1958</td>\n",
              "      <td>0</td>\n",
              "      <td>98072</td>\n",
              "      <td>47.7440</td>\n",
              "      <td>-122.087</td>\n",
              "      <td>2180</td>\n",
              "      <td>43995</td>\n",
              "    </tr>\n",
              "    <tr>\n",
              "      <th>13989</th>\n",
              "      <td>9528103443</td>\n",
              "      <td>20140724T000000</td>\n",
              "      <td>410000.0</td>\n",
              "      <td>2</td>\n",
              "      <td>1.50</td>\n",
              "      <td>1180</td>\n",
              "      <td>1034</td>\n",
              "      <td>2.0</td>\n",
              "      <td>0</td>\n",
              "      <td>0</td>\n",
              "      <td>...</td>\n",
              "      <td>7</td>\n",
              "      <td>1120</td>\n",
              "      <td>60</td>\n",
              "      <td>2001</td>\n",
              "      <td>0</td>\n",
              "      <td>98115</td>\n",
              "      <td>47.6780</td>\n",
              "      <td>-122.322</td>\n",
              "      <td>1137</td>\n",
              "      <td>1034</td>\n",
              "    </tr>\n",
              "    <tr>\n",
              "      <th>4717</th>\n",
              "      <td>2025049006</td>\n",
              "      <td>20141112T000000</td>\n",
              "      <td>750000.0</td>\n",
              "      <td>7</td>\n",
              "      <td>2.75</td>\n",
              "      <td>3410</td>\n",
              "      <td>4056</td>\n",
              "      <td>1.5</td>\n",
              "      <td>0</td>\n",
              "      <td>0</td>\n",
              "      <td>...</td>\n",
              "      <td>8</td>\n",
              "      <td>2130</td>\n",
              "      <td>1280</td>\n",
              "      <td>1906</td>\n",
              "      <td>0</td>\n",
              "      <td>98102</td>\n",
              "      <td>47.6454</td>\n",
              "      <td>-122.316</td>\n",
              "      <td>2510</td>\n",
              "      <td>4056</td>\n",
              "    </tr>\n",
              "    <tr>\n",
              "      <th>3844</th>\n",
              "      <td>2734100734</td>\n",
              "      <td>20141015T000000</td>\n",
              "      <td>216650.0</td>\n",
              "      <td>3</td>\n",
              "      <td>3.50</td>\n",
              "      <td>1540</td>\n",
              "      <td>1427</td>\n",
              "      <td>2.0</td>\n",
              "      <td>0</td>\n",
              "      <td>0</td>\n",
              "      <td>...</td>\n",
              "      <td>7</td>\n",
              "      <td>1360</td>\n",
              "      <td>180</td>\n",
              "      <td>2007</td>\n",
              "      <td>0</td>\n",
              "      <td>98109</td>\n",
              "      <td>47.5420</td>\n",
              "      <td>-122.322</td>\n",
              "      <td>1220</td>\n",
              "      <td>4000</td>\n",
              "    </tr>\n",
              "  </tbody>\n",
              "</table>\n",
              "<p>10 rows × 21 columns</p>\n",
              "</div>\n",
              "      <button class=\"colab-df-convert\" onclick=\"convertToInteractive('df-6c1703bb-1b6e-4b0d-a0ea-378909abf6ce')\"\n",
              "              title=\"Convert this dataframe to an interactive table.\"\n",
              "              style=\"display:none;\">\n",
              "        \n",
              "  <svg xmlns=\"http://www.w3.org/2000/svg\" height=\"24px\"viewBox=\"0 0 24 24\"\n",
              "       width=\"24px\">\n",
              "    <path d=\"M0 0h24v24H0V0z\" fill=\"none\"/>\n",
              "    <path d=\"M18.56 5.44l.94 2.06.94-2.06 2.06-.94-2.06-.94-.94-2.06-.94 2.06-2.06.94zm-11 1L8.5 8.5l.94-2.06 2.06-.94-2.06-.94L8.5 2.5l-.94 2.06-2.06.94zm10 10l.94 2.06.94-2.06 2.06-.94-2.06-.94-.94-2.06-.94 2.06-2.06.94z\"/><path d=\"M17.41 7.96l-1.37-1.37c-.4-.4-.92-.59-1.43-.59-.52 0-1.04.2-1.43.59L10.3 9.45l-7.72 7.72c-.78.78-.78 2.05 0 2.83L4 21.41c.39.39.9.59 1.41.59.51 0 1.02-.2 1.41-.59l7.78-7.78 2.81-2.81c.8-.78.8-2.07 0-2.86zM5.41 20L4 18.59l7.72-7.72 1.47 1.35L5.41 20z\"/>\n",
              "  </svg>\n",
              "      </button>\n",
              "      \n",
              "  <style>\n",
              "    .colab-df-container {\n",
              "      display:flex;\n",
              "      flex-wrap:wrap;\n",
              "      gap: 12px;\n",
              "    }\n",
              "\n",
              "    .colab-df-convert {\n",
              "      background-color: #E8F0FE;\n",
              "      border: none;\n",
              "      border-radius: 50%;\n",
              "      cursor: pointer;\n",
              "      display: none;\n",
              "      fill: #1967D2;\n",
              "      height: 32px;\n",
              "      padding: 0 0 0 0;\n",
              "      width: 32px;\n",
              "    }\n",
              "\n",
              "    .colab-df-convert:hover {\n",
              "      background-color: #E2EBFA;\n",
              "      box-shadow: 0px 1px 2px rgba(60, 64, 67, 0.3), 0px 1px 3px 1px rgba(60, 64, 67, 0.15);\n",
              "      fill: #174EA6;\n",
              "    }\n",
              "\n",
              "    [theme=dark] .colab-df-convert {\n",
              "      background-color: #3B4455;\n",
              "      fill: #D2E3FC;\n",
              "    }\n",
              "\n",
              "    [theme=dark] .colab-df-convert:hover {\n",
              "      background-color: #434B5C;\n",
              "      box-shadow: 0px 1px 3px 1px rgba(0, 0, 0, 0.15);\n",
              "      filter: drop-shadow(0px 1px 2px rgba(0, 0, 0, 0.3));\n",
              "      fill: #FFFFFF;\n",
              "    }\n",
              "  </style>\n",
              "\n",
              "      <script>\n",
              "        const buttonEl =\n",
              "          document.querySelector('#df-6c1703bb-1b6e-4b0d-a0ea-378909abf6ce button.colab-df-convert');\n",
              "        buttonEl.style.display =\n",
              "          google.colab.kernel.accessAllowed ? 'block' : 'none';\n",
              "\n",
              "        async function convertToInteractive(key) {\n",
              "          const element = document.querySelector('#df-6c1703bb-1b6e-4b0d-a0ea-378909abf6ce');\n",
              "          const dataTable =\n",
              "            await google.colab.kernel.invokeFunction('convertToInteractive',\n",
              "                                                     [key], {});\n",
              "          if (!dataTable) return;\n",
              "\n",
              "          const docLinkHtml = 'Like what you see? Visit the ' +\n",
              "            '<a target=\"_blank\" href=https://colab.research.google.com/notebooks/data_table.ipynb>data table notebook</a>'\n",
              "            + ' to learn more about interactive tables.';\n",
              "          element.innerHTML = '';\n",
              "          dataTable['output_type'] = 'display_data';\n",
              "          await google.colab.output.renderOutput(dataTable, element);\n",
              "          const docLink = document.createElement('div');\n",
              "          docLink.innerHTML = docLinkHtml;\n",
              "          element.appendChild(docLink);\n",
              "        }\n",
              "      </script>\n",
              "    </div>\n",
              "  </div>\n",
              "  "
            ]
          },
          "metadata": {},
          "execution_count": 35
        }
      ]
    },
    {
      "cell_type": "code",
      "source": [
        "df.info()"
      ],
      "metadata": {
        "colab": {
          "base_uri": "https://localhost:8080/"
        },
        "id": "MDeOh3yTaqhj",
        "outputId": "13db42f1-d0ea-45fa-be1c-076a7fa25c29"
      },
      "execution_count": 36,
      "outputs": [
        {
          "output_type": "stream",
          "name": "stdout",
          "text": [
            "<class 'pandas.core.frame.DataFrame'>\n",
            "RangeIndex: 21613 entries, 0 to 21612\n",
            "Data columns (total 21 columns):\n",
            " #   Column         Non-Null Count  Dtype  \n",
            "---  ------         --------------  -----  \n",
            " 0   id             21613 non-null  int64  \n",
            " 1   date           21613 non-null  object \n",
            " 2   price          21613 non-null  float64\n",
            " 3   bedrooms       21613 non-null  int64  \n",
            " 4   bathrooms      21613 non-null  float64\n",
            " 5   sqft_living    21613 non-null  int64  \n",
            " 6   sqft_lot       21613 non-null  int64  \n",
            " 7   floors         21613 non-null  float64\n",
            " 8   waterfront     21613 non-null  int64  \n",
            " 9   view           21613 non-null  int64  \n",
            " 10  condition      21613 non-null  int64  \n",
            " 11  grade          21613 non-null  int64  \n",
            " 12  sqft_above     21613 non-null  int64  \n",
            " 13  sqft_basement  21613 non-null  int64  \n",
            " 14  yr_built       21613 non-null  int64  \n",
            " 15  yr_renovated   21613 non-null  int64  \n",
            " 16  zipcode        21613 non-null  int64  \n",
            " 17  lat            21613 non-null  float64\n",
            " 18  long           21613 non-null  float64\n",
            " 19  sqft_living15  21613 non-null  int64  \n",
            " 20  sqft_lot15     21613 non-null  int64  \n",
            "dtypes: float64(5), int64(15), object(1)\n",
            "memory usage: 3.5+ MB\n"
          ]
        }
      ]
    },
    {
      "cell_type": "code",
      "source": [
        "df.describe().T"
      ],
      "metadata": {
        "colab": {
          "base_uri": "https://localhost:8080/",
          "height": 677
        },
        "id": "ZYjKjDjAauL4",
        "outputId": "c5ad7e45-e085-4c68-f0d7-15c04bba53d4"
      },
      "execution_count": 37,
      "outputs": [
        {
          "output_type": "execute_result",
          "data": {
            "text/plain": [
              "                 count          mean           std           min  \\\n",
              "id             21613.0  4.580302e+09  2.876566e+09  1.000102e+06   \n",
              "price          21613.0  5.400881e+05  3.671272e+05  7.500000e+04   \n",
              "bedrooms       21613.0  3.370842e+00  9.300618e-01  0.000000e+00   \n",
              "bathrooms      21613.0  2.114757e+00  7.701632e-01  0.000000e+00   \n",
              "sqft_living    21613.0  2.079900e+03  9.184409e+02  2.900000e+02   \n",
              "sqft_lot       21613.0  1.510697e+04  4.142051e+04  5.200000e+02   \n",
              "floors         21613.0  1.494309e+00  5.399889e-01  1.000000e+00   \n",
              "waterfront     21613.0  7.541757e-03  8.651720e-02  0.000000e+00   \n",
              "view           21613.0  2.343034e-01  7.663176e-01  0.000000e+00   \n",
              "condition      21613.0  3.409430e+00  6.507430e-01  1.000000e+00   \n",
              "grade          21613.0  7.656873e+00  1.175459e+00  1.000000e+00   \n",
              "sqft_above     21613.0  1.788391e+03  8.280910e+02  2.900000e+02   \n",
              "sqft_basement  21613.0  2.915090e+02  4.425750e+02  0.000000e+00   \n",
              "yr_built       21613.0  1.971005e+03  2.937341e+01  1.900000e+03   \n",
              "yr_renovated   21613.0  8.440226e+01  4.016792e+02  0.000000e+00   \n",
              "zipcode        21613.0  9.807794e+04  5.350503e+01  9.800100e+04   \n",
              "lat            21613.0  4.756005e+01  1.385637e-01  4.715590e+01   \n",
              "long           21613.0 -1.222139e+02  1.408283e-01 -1.225190e+02   \n",
              "sqft_living15  21613.0  1.986552e+03  6.853913e+02  3.990000e+02   \n",
              "sqft_lot15     21613.0  1.276846e+04  2.730418e+04  6.510000e+02   \n",
              "\n",
              "                        25%           50%           75%           max  \n",
              "id             2.123049e+09  3.904930e+09  7.308900e+09  9.900000e+09  \n",
              "price          3.219500e+05  4.500000e+05  6.450000e+05  7.700000e+06  \n",
              "bedrooms       3.000000e+00  3.000000e+00  4.000000e+00  3.300000e+01  \n",
              "bathrooms      1.750000e+00  2.250000e+00  2.500000e+00  8.000000e+00  \n",
              "sqft_living    1.427000e+03  1.910000e+03  2.550000e+03  1.354000e+04  \n",
              "sqft_lot       5.040000e+03  7.618000e+03  1.068800e+04  1.651359e+06  \n",
              "floors         1.000000e+00  1.500000e+00  2.000000e+00  3.500000e+00  \n",
              "waterfront     0.000000e+00  0.000000e+00  0.000000e+00  1.000000e+00  \n",
              "view           0.000000e+00  0.000000e+00  0.000000e+00  4.000000e+00  \n",
              "condition      3.000000e+00  3.000000e+00  4.000000e+00  5.000000e+00  \n",
              "grade          7.000000e+00  7.000000e+00  8.000000e+00  1.300000e+01  \n",
              "sqft_above     1.190000e+03  1.560000e+03  2.210000e+03  9.410000e+03  \n",
              "sqft_basement  0.000000e+00  0.000000e+00  5.600000e+02  4.820000e+03  \n",
              "yr_built       1.951000e+03  1.975000e+03  1.997000e+03  2.015000e+03  \n",
              "yr_renovated   0.000000e+00  0.000000e+00  0.000000e+00  2.015000e+03  \n",
              "zipcode        9.803300e+04  9.806500e+04  9.811800e+04  9.819900e+04  \n",
              "lat            4.747100e+01  4.757180e+01  4.767800e+01  4.777760e+01  \n",
              "long          -1.223280e+02 -1.222300e+02 -1.221250e+02 -1.213150e+02  \n",
              "sqft_living15  1.490000e+03  1.840000e+03  2.360000e+03  6.210000e+03  \n",
              "sqft_lot15     5.100000e+03  7.620000e+03  1.008300e+04  8.712000e+05  "
            ],
            "text/html": [
              "\n",
              "  <div id=\"df-48da47b4-6826-447d-a0ac-0044a13703d4\">\n",
              "    <div class=\"colab-df-container\">\n",
              "      <div>\n",
              "<style scoped>\n",
              "    .dataframe tbody tr th:only-of-type {\n",
              "        vertical-align: middle;\n",
              "    }\n",
              "\n",
              "    .dataframe tbody tr th {\n",
              "        vertical-align: top;\n",
              "    }\n",
              "\n",
              "    .dataframe thead th {\n",
              "        text-align: right;\n",
              "    }\n",
              "</style>\n",
              "<table border=\"1\" class=\"dataframe\">\n",
              "  <thead>\n",
              "    <tr style=\"text-align: right;\">\n",
              "      <th></th>\n",
              "      <th>count</th>\n",
              "      <th>mean</th>\n",
              "      <th>std</th>\n",
              "      <th>min</th>\n",
              "      <th>25%</th>\n",
              "      <th>50%</th>\n",
              "      <th>75%</th>\n",
              "      <th>max</th>\n",
              "    </tr>\n",
              "  </thead>\n",
              "  <tbody>\n",
              "    <tr>\n",
              "      <th>id</th>\n",
              "      <td>21613.0</td>\n",
              "      <td>4.580302e+09</td>\n",
              "      <td>2.876566e+09</td>\n",
              "      <td>1.000102e+06</td>\n",
              "      <td>2.123049e+09</td>\n",
              "      <td>3.904930e+09</td>\n",
              "      <td>7.308900e+09</td>\n",
              "      <td>9.900000e+09</td>\n",
              "    </tr>\n",
              "    <tr>\n",
              "      <th>price</th>\n",
              "      <td>21613.0</td>\n",
              "      <td>5.400881e+05</td>\n",
              "      <td>3.671272e+05</td>\n",
              "      <td>7.500000e+04</td>\n",
              "      <td>3.219500e+05</td>\n",
              "      <td>4.500000e+05</td>\n",
              "      <td>6.450000e+05</td>\n",
              "      <td>7.700000e+06</td>\n",
              "    </tr>\n",
              "    <tr>\n",
              "      <th>bedrooms</th>\n",
              "      <td>21613.0</td>\n",
              "      <td>3.370842e+00</td>\n",
              "      <td>9.300618e-01</td>\n",
              "      <td>0.000000e+00</td>\n",
              "      <td>3.000000e+00</td>\n",
              "      <td>3.000000e+00</td>\n",
              "      <td>4.000000e+00</td>\n",
              "      <td>3.300000e+01</td>\n",
              "    </tr>\n",
              "    <tr>\n",
              "      <th>bathrooms</th>\n",
              "      <td>21613.0</td>\n",
              "      <td>2.114757e+00</td>\n",
              "      <td>7.701632e-01</td>\n",
              "      <td>0.000000e+00</td>\n",
              "      <td>1.750000e+00</td>\n",
              "      <td>2.250000e+00</td>\n",
              "      <td>2.500000e+00</td>\n",
              "      <td>8.000000e+00</td>\n",
              "    </tr>\n",
              "    <tr>\n",
              "      <th>sqft_living</th>\n",
              "      <td>21613.0</td>\n",
              "      <td>2.079900e+03</td>\n",
              "      <td>9.184409e+02</td>\n",
              "      <td>2.900000e+02</td>\n",
              "      <td>1.427000e+03</td>\n",
              "      <td>1.910000e+03</td>\n",
              "      <td>2.550000e+03</td>\n",
              "      <td>1.354000e+04</td>\n",
              "    </tr>\n",
              "    <tr>\n",
              "      <th>sqft_lot</th>\n",
              "      <td>21613.0</td>\n",
              "      <td>1.510697e+04</td>\n",
              "      <td>4.142051e+04</td>\n",
              "      <td>5.200000e+02</td>\n",
              "      <td>5.040000e+03</td>\n",
              "      <td>7.618000e+03</td>\n",
              "      <td>1.068800e+04</td>\n",
              "      <td>1.651359e+06</td>\n",
              "    </tr>\n",
              "    <tr>\n",
              "      <th>floors</th>\n",
              "      <td>21613.0</td>\n",
              "      <td>1.494309e+00</td>\n",
              "      <td>5.399889e-01</td>\n",
              "      <td>1.000000e+00</td>\n",
              "      <td>1.000000e+00</td>\n",
              "      <td>1.500000e+00</td>\n",
              "      <td>2.000000e+00</td>\n",
              "      <td>3.500000e+00</td>\n",
              "    </tr>\n",
              "    <tr>\n",
              "      <th>waterfront</th>\n",
              "      <td>21613.0</td>\n",
              "      <td>7.541757e-03</td>\n",
              "      <td>8.651720e-02</td>\n",
              "      <td>0.000000e+00</td>\n",
              "      <td>0.000000e+00</td>\n",
              "      <td>0.000000e+00</td>\n",
              "      <td>0.000000e+00</td>\n",
              "      <td>1.000000e+00</td>\n",
              "    </tr>\n",
              "    <tr>\n",
              "      <th>view</th>\n",
              "      <td>21613.0</td>\n",
              "      <td>2.343034e-01</td>\n",
              "      <td>7.663176e-01</td>\n",
              "      <td>0.000000e+00</td>\n",
              "      <td>0.000000e+00</td>\n",
              "      <td>0.000000e+00</td>\n",
              "      <td>0.000000e+00</td>\n",
              "      <td>4.000000e+00</td>\n",
              "    </tr>\n",
              "    <tr>\n",
              "      <th>condition</th>\n",
              "      <td>21613.0</td>\n",
              "      <td>3.409430e+00</td>\n",
              "      <td>6.507430e-01</td>\n",
              "      <td>1.000000e+00</td>\n",
              "      <td>3.000000e+00</td>\n",
              "      <td>3.000000e+00</td>\n",
              "      <td>4.000000e+00</td>\n",
              "      <td>5.000000e+00</td>\n",
              "    </tr>\n",
              "    <tr>\n",
              "      <th>grade</th>\n",
              "      <td>21613.0</td>\n",
              "      <td>7.656873e+00</td>\n",
              "      <td>1.175459e+00</td>\n",
              "      <td>1.000000e+00</td>\n",
              "      <td>7.000000e+00</td>\n",
              "      <td>7.000000e+00</td>\n",
              "      <td>8.000000e+00</td>\n",
              "      <td>1.300000e+01</td>\n",
              "    </tr>\n",
              "    <tr>\n",
              "      <th>sqft_above</th>\n",
              "      <td>21613.0</td>\n",
              "      <td>1.788391e+03</td>\n",
              "      <td>8.280910e+02</td>\n",
              "      <td>2.900000e+02</td>\n",
              "      <td>1.190000e+03</td>\n",
              "      <td>1.560000e+03</td>\n",
              "      <td>2.210000e+03</td>\n",
              "      <td>9.410000e+03</td>\n",
              "    </tr>\n",
              "    <tr>\n",
              "      <th>sqft_basement</th>\n",
              "      <td>21613.0</td>\n",
              "      <td>2.915090e+02</td>\n",
              "      <td>4.425750e+02</td>\n",
              "      <td>0.000000e+00</td>\n",
              "      <td>0.000000e+00</td>\n",
              "      <td>0.000000e+00</td>\n",
              "      <td>5.600000e+02</td>\n",
              "      <td>4.820000e+03</td>\n",
              "    </tr>\n",
              "    <tr>\n",
              "      <th>yr_built</th>\n",
              "      <td>21613.0</td>\n",
              "      <td>1.971005e+03</td>\n",
              "      <td>2.937341e+01</td>\n",
              "      <td>1.900000e+03</td>\n",
              "      <td>1.951000e+03</td>\n",
              "      <td>1.975000e+03</td>\n",
              "      <td>1.997000e+03</td>\n",
              "      <td>2.015000e+03</td>\n",
              "    </tr>\n",
              "    <tr>\n",
              "      <th>yr_renovated</th>\n",
              "      <td>21613.0</td>\n",
              "      <td>8.440226e+01</td>\n",
              "      <td>4.016792e+02</td>\n",
              "      <td>0.000000e+00</td>\n",
              "      <td>0.000000e+00</td>\n",
              "      <td>0.000000e+00</td>\n",
              "      <td>0.000000e+00</td>\n",
              "      <td>2.015000e+03</td>\n",
              "    </tr>\n",
              "    <tr>\n",
              "      <th>zipcode</th>\n",
              "      <td>21613.0</td>\n",
              "      <td>9.807794e+04</td>\n",
              "      <td>5.350503e+01</td>\n",
              "      <td>9.800100e+04</td>\n",
              "      <td>9.803300e+04</td>\n",
              "      <td>9.806500e+04</td>\n",
              "      <td>9.811800e+04</td>\n",
              "      <td>9.819900e+04</td>\n",
              "    </tr>\n",
              "    <tr>\n",
              "      <th>lat</th>\n",
              "      <td>21613.0</td>\n",
              "      <td>4.756005e+01</td>\n",
              "      <td>1.385637e-01</td>\n",
              "      <td>4.715590e+01</td>\n",
              "      <td>4.747100e+01</td>\n",
              "      <td>4.757180e+01</td>\n",
              "      <td>4.767800e+01</td>\n",
              "      <td>4.777760e+01</td>\n",
              "    </tr>\n",
              "    <tr>\n",
              "      <th>long</th>\n",
              "      <td>21613.0</td>\n",
              "      <td>-1.222139e+02</td>\n",
              "      <td>1.408283e-01</td>\n",
              "      <td>-1.225190e+02</td>\n",
              "      <td>-1.223280e+02</td>\n",
              "      <td>-1.222300e+02</td>\n",
              "      <td>-1.221250e+02</td>\n",
              "      <td>-1.213150e+02</td>\n",
              "    </tr>\n",
              "    <tr>\n",
              "      <th>sqft_living15</th>\n",
              "      <td>21613.0</td>\n",
              "      <td>1.986552e+03</td>\n",
              "      <td>6.853913e+02</td>\n",
              "      <td>3.990000e+02</td>\n",
              "      <td>1.490000e+03</td>\n",
              "      <td>1.840000e+03</td>\n",
              "      <td>2.360000e+03</td>\n",
              "      <td>6.210000e+03</td>\n",
              "    </tr>\n",
              "    <tr>\n",
              "      <th>sqft_lot15</th>\n",
              "      <td>21613.0</td>\n",
              "      <td>1.276846e+04</td>\n",
              "      <td>2.730418e+04</td>\n",
              "      <td>6.510000e+02</td>\n",
              "      <td>5.100000e+03</td>\n",
              "      <td>7.620000e+03</td>\n",
              "      <td>1.008300e+04</td>\n",
              "      <td>8.712000e+05</td>\n",
              "    </tr>\n",
              "  </tbody>\n",
              "</table>\n",
              "</div>\n",
              "      <button class=\"colab-df-convert\" onclick=\"convertToInteractive('df-48da47b4-6826-447d-a0ac-0044a13703d4')\"\n",
              "              title=\"Convert this dataframe to an interactive table.\"\n",
              "              style=\"display:none;\">\n",
              "        \n",
              "  <svg xmlns=\"http://www.w3.org/2000/svg\" height=\"24px\"viewBox=\"0 0 24 24\"\n",
              "       width=\"24px\">\n",
              "    <path d=\"M0 0h24v24H0V0z\" fill=\"none\"/>\n",
              "    <path d=\"M18.56 5.44l.94 2.06.94-2.06 2.06-.94-2.06-.94-.94-2.06-.94 2.06-2.06.94zm-11 1L8.5 8.5l.94-2.06 2.06-.94-2.06-.94L8.5 2.5l-.94 2.06-2.06.94zm10 10l.94 2.06.94-2.06 2.06-.94-2.06-.94-.94-2.06-.94 2.06-2.06.94z\"/><path d=\"M17.41 7.96l-1.37-1.37c-.4-.4-.92-.59-1.43-.59-.52 0-1.04.2-1.43.59L10.3 9.45l-7.72 7.72c-.78.78-.78 2.05 0 2.83L4 21.41c.39.39.9.59 1.41.59.51 0 1.02-.2 1.41-.59l7.78-7.78 2.81-2.81c.8-.78.8-2.07 0-2.86zM5.41 20L4 18.59l7.72-7.72 1.47 1.35L5.41 20z\"/>\n",
              "  </svg>\n",
              "      </button>\n",
              "      \n",
              "  <style>\n",
              "    .colab-df-container {\n",
              "      display:flex;\n",
              "      flex-wrap:wrap;\n",
              "      gap: 12px;\n",
              "    }\n",
              "\n",
              "    .colab-df-convert {\n",
              "      background-color: #E8F0FE;\n",
              "      border: none;\n",
              "      border-radius: 50%;\n",
              "      cursor: pointer;\n",
              "      display: none;\n",
              "      fill: #1967D2;\n",
              "      height: 32px;\n",
              "      padding: 0 0 0 0;\n",
              "      width: 32px;\n",
              "    }\n",
              "\n",
              "    .colab-df-convert:hover {\n",
              "      background-color: #E2EBFA;\n",
              "      box-shadow: 0px 1px 2px rgba(60, 64, 67, 0.3), 0px 1px 3px 1px rgba(60, 64, 67, 0.15);\n",
              "      fill: #174EA6;\n",
              "    }\n",
              "\n",
              "    [theme=dark] .colab-df-convert {\n",
              "      background-color: #3B4455;\n",
              "      fill: #D2E3FC;\n",
              "    }\n",
              "\n",
              "    [theme=dark] .colab-df-convert:hover {\n",
              "      background-color: #434B5C;\n",
              "      box-shadow: 0px 1px 3px 1px rgba(0, 0, 0, 0.15);\n",
              "      filter: drop-shadow(0px 1px 2px rgba(0, 0, 0, 0.3));\n",
              "      fill: #FFFFFF;\n",
              "    }\n",
              "  </style>\n",
              "\n",
              "      <script>\n",
              "        const buttonEl =\n",
              "          document.querySelector('#df-48da47b4-6826-447d-a0ac-0044a13703d4 button.colab-df-convert');\n",
              "        buttonEl.style.display =\n",
              "          google.colab.kernel.accessAllowed ? 'block' : 'none';\n",
              "\n",
              "        async function convertToInteractive(key) {\n",
              "          const element = document.querySelector('#df-48da47b4-6826-447d-a0ac-0044a13703d4');\n",
              "          const dataTable =\n",
              "            await google.colab.kernel.invokeFunction('convertToInteractive',\n",
              "                                                     [key], {});\n",
              "          if (!dataTable) return;\n",
              "\n",
              "          const docLinkHtml = 'Like what you see? Visit the ' +\n",
              "            '<a target=\"_blank\" href=https://colab.research.google.com/notebooks/data_table.ipynb>data table notebook</a>'\n",
              "            + ' to learn more about interactive tables.';\n",
              "          element.innerHTML = '';\n",
              "          dataTable['output_type'] = 'display_data';\n",
              "          await google.colab.output.renderOutput(dataTable, element);\n",
              "          const docLink = document.createElement('div');\n",
              "          docLink.innerHTML = docLinkHtml;\n",
              "          element.appendChild(docLink);\n",
              "        }\n",
              "      </script>\n",
              "    </div>\n",
              "  </div>\n",
              "  "
            ]
          },
          "metadata": {},
          "execution_count": 37
        }
      ]
    },
    {
      "cell_type": "code",
      "source": [
        "df.drop('id', axis = 1, inplace = True)\n",
        "df.drop('date', axis = 1, inplace = True)\n",
        "df.drop('zipcode', axis = 1, inplace = True)\n",
        "df.drop('lat', axis = 1, inplace = True)\n",
        "df.drop('long', axis = 1, inplace = True)\n"
      ],
      "metadata": {
        "id": "p0sPS_0TawX6"
      },
      "execution_count": 38,
      "outputs": []
    },
    {
      "cell_type": "code",
      "source": [
        "plt.figure(figsize=(12,8)) \n",
        "sns.heatmap(df.corr(), annot=True, cmap='Dark2_r', linewidths = 2)\n",
        "plt.show()"
      ],
      "metadata": {
        "colab": {
          "base_uri": "https://localhost:8080/",
          "height": 561
        },
        "id": "XJSDgYzPa1yx",
        "outputId": "b05c04ee-614f-4bee-e6ff-ff5e1393e06a"
      },
      "execution_count": 39,
      "outputs": [
        {
          "output_type": "display_data",
          "data": {
            "text/plain": [
              "<Figure size 864x576 with 2 Axes>"
            ],
            "image/png": "[encoded data removed]"
          },
          "metadata": {}
        }
      ]
    },
    {
      "cell_type": "code",
      "source": [
        "columns = df.columns.drop('price')\n",
        "\n",
        "features = columns\n",
        "label = ['price']\n",
        "\n",
        "X = df[features]\n",
        "y = df[label]"
      ],
      "metadata": {
        "id": "PwAbdwDCbB_Q"
      },
      "execution_count": 40,
      "outputs": []
    },
    {
      "cell_type": "code",
      "source": [
        "from sklearn.model_selection import train_test_split\n",
        "X_train, X_test, y_train, y_test = train_test_split(X, y, test_size = 0.2, random_state = 101)\n",
        "\n",
        "print(f'Numero total de registros en la bdd: {len(X)}')\n",
        "print(\"*****\"*10)\n",
        "print(f'Numero total de registros en el training set: {len(X_train)}')\n",
        "print(f'Tamaño de X_train: {X_train.shape}')\n",
        "print(\"*****\"*10)\n",
        "print(f'Mumero total de registros en el test dataset: {len(X_test)}')\n",
        "print(f'Tamaño del X_test: {X_test.shape}')"
      ],
      "metadata": {
        "colab": {
          "base_uri": "https://localhost:8080/"
        },
        "id": "lotc2PrqbEsM",
        "outputId": "a7045e15-03b9-4cbf-a6ae-38ea4c7feece"
      },
      "execution_count": 41,
      "outputs": [
        {
          "output_type": "stream",
          "name": "stdout",
          "text": [
            "Numero total de registros en la bdd: 21613\n",
            "**************************************************\n",
            "Numero total de registros en el training set: 17290\n",
            "Tamaño de X_train: (17290, 15)\n",
            "**************************************************\n",
            "Mumero total de registros en el test dataset: 4323\n",
            "Tamaño del X_test: (4323, 15)\n"
          ]
        }
      ]
    },
    {
      "cell_type": "markdown",
      "source": [
        "Listas con resultados múltiples de MAE y r2"
      ],
      "metadata": {
        "id": "xVI9tvjyhUDN"
      }
    },
    {
      "cell_type": "code",
      "source": [
        "lista_mae_mult = []\n",
        "lista_r2_mult = []"
      ],
      "metadata": {
        "id": "UE69BbJVf693"
      },
      "execution_count": 42,
      "outputs": []
    },
    {
      "cell_type": "markdown",
      "source": [
        "Definimos una función que traiga de vuelta los resultados de predicción"
      ],
      "metadata": {
        "id": "EWxc4p-lhGSR"
      }
    },
    {
      "cell_type": "code",
      "source": [
        "def results(y_t, y_modelo_prediction):\n",
        "  #Calculamos el valor de Error Medio Absoluto (MAE) y R2\n",
        "  mae = metrics.mean_absolute_error(y_t,y_modelo_prediction)\n",
        "  r2= r2_score(y_t,y_modelo_prediction)\n",
        "\n",
        "  #Agregamos los valores a nuestras listas\n",
        "  lista_mae_mult.append(mae) \n",
        "  lista_r2_mult.append(r2)\n",
        "\n",
        "  #Los errores\n",
        "  print('Error medio Absoluto (MAE):', mae)\n",
        "  print('Root Mean Squared Error (RMSE):', np.sqrt(metrics.mean_squared_error(y_t,y_modelo_prediction)))\n",
        "\n",
        "  #La r cuadrada\n",
        "  print('r2_score', r2)"
      ],
      "metadata": {
        "id": "FFbQiPkPfXmR"
      },
      "execution_count": 43,
      "outputs": []
    },
    {
      "cell_type": "markdown",
      "source": [
        "### Regresión Múltiple Lineal"
      ],
      "metadata": {
        "id": "iSyXtqdHgoTf"
      }
    },
    {
      "cell_type": "code",
      "source": [
        "#Definimos el objeto que almacenará el método de Regresión Lineal\n",
        "lr = LinearRegression(fit_intercept=True)\n",
        "#Ajustamos el modelo a los datos de entrenamiento\n",
        "lr.fit(X_train, y_train)\n",
        "\n",
        "#Preparamos las variables de prueba (test) para realizar la predicción\n",
        "X_lr = X_test  #Aqui recordemos que se hace con los de prueba, no con los de entrenamiento\n",
        "y_lr = lr.predict(X_lr)"
      ],
      "metadata": {
        "id": "zJxTu-4sgwPI"
      },
      "execution_count": 44,
      "outputs": []
    },
    {
      "cell_type": "code",
      "source": [
        "#Ecuación del modelo\n",
        "print(f' y=  {lr.coef_}X + {lr.intercept_}')"
      ],
      "metadata": {
        "colab": {
          "base_uri": "https://localhost:8080/"
        },
        "outputId": "bc0f44e4-f442-459c-8963-eb2160f605c4",
        "id": "32IRfAYHgwPK"
      },
      "execution_count": 45,
      "outputs": [
        {
          "output_type": "stream",
          "name": "stdout",
          "text": [
            " y=  [[-3.71022526e+04  4.01418845e+04  1.09169906e+02  2.64378621e-02\n",
            "   2.95338523e+04  5.52048615e+05  4.22004055e+04  2.21281704e+04\n",
            "   1.21117318e+05  5.02818538e+01  5.88880527e+01 -3.52812693e+03\n",
            "   1.04703799e+01  2.60075557e+01 -5.66471373e-01]]X + [6093360.93532767]\n"
          ]
        }
      ]
    },
    {
      "cell_type": "markdown",
      "source": [
        "$\\hat{y} = -6.22X + 67.89$"
      ],
      "metadata": {
        "id": "KPuR-NjGgwPM"
      }
    },
    {
      "cell_type": "code",
      "source": [
        "results(y_test, y_lr)"
      ],
      "metadata": {
        "colab": {
          "base_uri": "https://localhost:8080/"
        },
        "id": "svLMDVC-g3Cv",
        "outputId": "05dbf335-3a2b-497a-bf35-a784b597db8e"
      },
      "execution_count": 46,
      "outputs": [
        {
          "output_type": "stream",
          "name": "stdout",
          "text": [
            "Error medio Absoluto (MAE): 136332.19435816686\n",
            "Root Mean Squared Error (RMSE): 213832.57523968336\n",
            "r2_score 0.6648546558345214\n"
          ]
        }
      ]
    },
    {
      "cell_type": "markdown",
      "source": [
        "### Regresión Múltiple Polinomial"
      ],
      "metadata": {
        "id": "hHM3P6XFfAc2"
      }
    },
    {
      "cell_type": "code",
      "source": [
        "#Definimos el objeto que almacenará el método de Regresión Polinomial\n",
        "pr = PolynomialFeatures(degree=2, include_bias=False)\n",
        "#Ajustamos el modelo a los datos de entrenamiento\n",
        "caracteristicas = pr.fit_transform(X_train)\n",
        "pr_ = LinearRegression(fit_intercept=True)\n",
        "pr_.fit(caracteristicas, y_train)"
      ],
      "metadata": {
        "colab": {
          "base_uri": "https://localhost:8080/"
        },
        "outputId": "4768c7ef-08a1-45af-ff15-41de1834c9e2",
        "id": "f2oKQSRpbdjB"
      },
      "execution_count": 47,
      "outputs": [
        {
          "output_type": "execute_result",
          "data": {
            "text/plain": [
              "LinearRegression()"
            ]
          },
          "metadata": {},
          "execution_count": 47
        }
      ]
    },
    {
      "cell_type": "code",
      "source": [
        "#Preparamos las variables de prueba (test) para realizar la predicción\n",
        "X_pr = pr.fit_transform(X_test)  #Aqui recordemos que se hace con los de prueba, no con los de entrenamiento\n",
        "y_pr = pr_.predict(X_pr)\n",
        "print(X_pr.shape)\n",
        "print(y_pr.shape)"
      ],
      "metadata": {
        "colab": {
          "base_uri": "https://localhost:8080/"
        },
        "outputId": "a97a737f-64e8-46bc-d56f-95e00ff37297",
        "id": "Q5rwVDP4bdjD"
      },
      "execution_count": 48,
      "outputs": [
        {
          "output_type": "stream",
          "name": "stdout",
          "text": [
            "(4323, 135)\n",
            "(4323, 1)\n"
          ]
        }
      ]
    },
    {
      "cell_type": "code",
      "source": [
        "#Ecuación del modelo\n",
        "print(f' y=  {pr_.coef_[0,1]} X^2 + {pr_.coef_[0,0]} X + {pr_.intercept_[0]}')"
      ],
      "metadata": {
        "colab": {
          "base_uri": "https://localhost:8080/"
        },
        "outputId": "b64e831b-a3f4-4c84-d231-82bebe5f5191",
        "id": "RGRA7Bz0bseh"
      },
      "execution_count": 49,
      "outputs": [
        {
          "output_type": "stream",
          "name": "stdout",
          "text": [
            " y=  -1174738.7180232732 X^2 + 1015466.4318458493 X + 80863582.48791893\n"
          ]
        }
      ]
    },
    {
      "cell_type": "code",
      "source": [
        "results(y_test, y_pr)"
      ],
      "metadata": {
        "colab": {
          "base_uri": "https://localhost:8080/"
        },
        "id": "a7vDbTCZiCHH",
        "outputId": "9929150a-2997-4222-dce6-b5663d5f7c75"
      },
      "execution_count": 50,
      "outputs": [
        {
          "output_type": "stream",
          "name": "stdout",
          "text": [
            "Error medio Absoluto (MAE): 122015.80006144893\n",
            "Root Mean Squared Error (RMSE): 181470.06574727758\n",
            "r2_score 0.7586232413126757\n"
          ]
        }
      ]
    },
    {
      "cell_type": "markdown",
      "source": [
        "### Regresión Múltiple Ridge"
      ],
      "metadata": {
        "id": "3T4QOYJ3fEfJ"
      }
    },
    {
      "cell_type": "code",
      "source": [
        "#Definimos el objeto que almacenará el método de Regresión Lineal\n",
        "rr = Ridge(alpha=5.0, fit_intercept=True)\n",
        "#Ajustamos el modelo a los datos de entrenamiento\n",
        "rr.fit(X_train, y_train)\n",
        "\n",
        "#Preparamos las variables de prueba (test) para realizar la predicción\n",
        "X_rr = X_test\n",
        "y_rr = rr.predict(X_rr)"
      ],
      "metadata": {
        "id": "mxiaoC5ofNmg"
      },
      "execution_count": 51,
      "outputs": []
    },
    {
      "cell_type": "code",
      "source": [
        "#Ecuación del modelo\n",
        "print(f' y=  {rr.coef_[0,0]} X + {rr.intercept_[0]}')"
      ],
      "metadata": {
        "colab": {
          "base_uri": "https://localhost:8080/"
        },
        "outputId": "177e5747-c50f-40c2-acf0-8f1ca042772b",
        "id": "zIeqUfDtfNmi"
      },
      "execution_count": 52,
      "outputs": [
        {
          "output_type": "stream",
          "name": "stdout",
          "text": [
            " y=  -37197.32907970298 X + 6090396.451460115\n"
          ]
        }
      ]
    },
    {
      "cell_type": "code",
      "source": [
        "results(y_test, y_rr)"
      ],
      "metadata": {
        "colab": {
          "base_uri": "https://localhost:8080/"
        },
        "id": "yD7DqT4_fy15",
        "outputId": "539da14f-dab2-47ed-c9f7-e5e5cb80df71"
      },
      "execution_count": 53,
      "outputs": [
        {
          "output_type": "stream",
          "name": "stdout",
          "text": [
            "Error medio Absoluto (MAE): 136362.008581779\n",
            "Root Mean Squared Error (RMSE): 213932.73613047396\n",
            "r2_score 0.6645406127749439\n"
          ]
        }
      ]
    },
    {
      "cell_type": "markdown",
      "source": [
        "### Regresión Múltiple Lasso"
      ],
      "metadata": {
        "id": "L8U3pGSDgQKR"
      }
    },
    {
      "cell_type": "code",
      "source": [
        "#Definimos el objeto que almacenará el método Lasso\n",
        "rl = Lasso(alpha=4.5, fit_intercept=True)\n",
        "#Ajustamos el modelo a los datos de entrenamiento\n",
        "rl.fit(X_train, y_train)\n",
        "\n",
        "#Preparamos las variables de prueba (test) para realizar la predicción\n",
        "X_rl = X_test\n",
        "y_rl = rl.predict(X_rl)"
      ],
      "metadata": {
        "colab": {
          "base_uri": "https://localhost:8080/"
        },
        "outputId": "17f46a99-fab6-41d5-9165-90a36ffa09c0",
        "id": "KACXWp7wgTi4"
      },
      "execution_count": 54,
      "outputs": [
        {
          "output_type": "stream",
          "name": "stderr",
          "text": [
            "/usr/local/lib/python3.7/dist-packages/sklearn/linear_model/_coordinate_descent.py:648: ConvergenceWarning: Objective did not converge. You might want to increase the number of iterations, check the scale of the features or consider increasing regularisation. Duality gap: 3.683e+14, tolerance: 2.323e+11\n",
            "  coef_, l1_reg, l2_reg, X, y, max_iter, tol, rng, random, positive\n"
          ]
        }
      ]
    },
    {
      "cell_type": "code",
      "source": [
        "#Ecuación del modelo\n",
        "print(f' y=  {rl.coef_[0]} X + {rl.intercept_[0]}')"
      ],
      "metadata": {
        "colab": {
          "base_uri": "https://localhost:8080/"
        },
        "outputId": "050a9b84-f79b-4e35-9f2a-ff4b1c16e980",
        "id": "QsPPYhPTgTi5"
      },
      "execution_count": 55,
      "outputs": [
        {
          "output_type": "stream",
          "name": "stdout",
          "text": [
            " y=  -37096.54901206791 X + 6093022.501621628\n"
          ]
        }
      ]
    },
    {
      "cell_type": "code",
      "source": [
        "results(y_test, y_rl)"
      ],
      "metadata": {
        "colab": {
          "base_uri": "https://localhost:8080/"
        },
        "id": "OnYn6irEgZMM",
        "outputId": "7f85e048-1932-4cec-abaa-45a736d28b2b"
      },
      "execution_count": 56,
      "outputs": [
        {
          "output_type": "stream",
          "name": "stdout",
          "text": [
            "Error medio Absoluto (MAE): 136333.23526527287\n",
            "Root Mean Squared Error (RMSE): 213835.54773811705\n",
            "r2_score 0.6648453380218942\n"
          ]
        }
      ]
    },
    {
      "cell_type": "markdown",
      "source": [
        "### Resultados de Regresión Múltiple"
      ],
      "metadata": {
        "id": "z7Xj2V66hcHV"
      }
    },
    {
      "cell_type": "code",
      "source": [
        "lista_mae_mult\n",
        "lista_r2_mult"
      ],
      "metadata": {
        "colab": {
          "base_uri": "https://localhost:8080/"
        },
        "id": "fESElPaCh3_5",
        "outputId": "ba2ab8e0-e0ed-4423-8762-692a4c189056"
      },
      "execution_count": 57,
      "outputs": [
        {
          "output_type": "execute_result",
          "data": {
            "text/plain": [
              "[0.6648546558345214,\n",
              " 0.7586232413126757,\n",
              " 0.6645406127749439,\n",
              " 0.6648453380218942]"
            ]
          },
          "metadata": {},
          "execution_count": 57
        }
      ]
    },
    {
      "cell_type": "code",
      "source": [
        "#Grafico de mae\n",
        "nombres=list()\n",
        "nombres.append('RL')\n",
        "nombres.append('RLP')\n",
        "nombres.append('Ridge')\n",
        "nombres.append('Lasso')\n",
        "\n",
        "plt.bar(nombres, lista_mae_mult)\n",
        "plt.show()"
      ],
      "metadata": {
        "colab": {
          "base_uri": "https://localhost:8080/",
          "height": 377
        },
        "id": "8au_jOqojU19",
        "outputId": "9753e474-4f79-43a7-e733-a7fee1763f6e"
      },
      "execution_count": 59,
      "outputs": [
        {
          "output_type": "display_data",
          "data": {
            "text/plain": [
              "<Figure size 720x432 with 1 Axes>"
            ],
            "image/png": "[encoded data removed]"
          },
          "metadata": {}
        }
      ]
    },
    {
      "cell_type": "code",
      "source": [
        "#Grafico de r cuadrada\n",
        "nombres=list()\n",
        "nombres.append('RL')\n",
        "nombres.append('RLP')\n",
        "nombres.append('Ridge')\n",
        "nombres.append('Lasso')\n",
        "\n",
        "plt.bar(nombres, lista_r2_mult)\n",
        "plt.show()\n"
      ],
      "metadata": {
        "colab": {
          "base_uri": "https://localhost:8080/",
          "height": 377
        },
        "id": "1Af5agmehefU",
        "outputId": "ae7148a3-10f7-48d3-aa25-3f6514155e8e"
      },
      "execution_count": 58,
      "outputs": [
        {
          "output_type": "display_data",
          "data": {
            "text/plain": [
              "<Figure size 720x432 with 1 Axes>"
            ],
            "image/png": "[encoded data removed]"
          },
          "metadata": {}
        }
      ]
    },
    {
      "cell_type": "code",
      "source": [
        "y_rl = np.reshape(y_rl,[4323,1])"
      ],
      "metadata": {
        "id": "PcG4YMWSjiub"
      },
      "execution_count": 60,
      "outputs": []
    },
    {
      "cell_type": "code",
      "source": [
        "residuo_regresion_simple=np.array(y_lr - y_test)\n",
        "residuo_regresion_poliforme= np.array(y_pr - y_test)\n",
        "residuo_ridge=np.array(y_rr - y_test)\n",
        "residuo_lasso=np.array(y_rl - y_test)\n",
        "cols = [residuo_regresion_simple.ravel(),residuo_regresion_poliforme.ravel(),residuo_ridge.ravel(),residuo_lasso.ravel()]\n",
        "\n",
        "lista_residuos = cols\n",
        "#scaler = MinMaxScaler()\n",
        "#trans_lista_residuos = scaler.fit_transform(lista_residuos)\n",
        "#trans_lista_residuos = pd.DataFrame(trans_lista_residuos)\n",
        "#trans_lista_residuos.columns = cols\n",
        "\n",
        "nombres=list()\n",
        "nombres.append('Lineal')\n",
        "nombres.append('Polinomial')\n",
        "nombres.append('Ridge')\n",
        "nombres.append('Lasso')\n",
        "\n",
        "#grafica del MAE (de los cuatro métodos)\n",
        "sns.set(rc={'figure.figsize':(9,9)})\n",
        "\n",
        "plt.boxplot(lista_residuos, labels=nombres, showmeans=True)\n",
        "plt.show()"
      ],
      "metadata": {
        "colab": {
          "base_uri": "https://localhost:8080/",
          "height": 551
        },
        "id": "vO_VSdoujZUh",
        "outputId": "85273036-9197-4fd9-fbd3-0197852cfa4b"
      },
      "execution_count": 61,
      "outputs": [
        {
          "output_type": "display_data",
          "data": {
            "text/plain": [
              "<Figure size 648x648 with 1 Axes>"
            ],
            "image/png": "[encoded data removed]"
          },
          "metadata": {}
        }
      ]
    },
    {
      "cell_type": "markdown",
      "source": [
        "### Conclusiones del Ejercicio 2\n",
        "\n",
        "Explica tus resultados, que método conviene más a la empresa, ¿por que?, ¿que porcentajes de entrenamiento y evaluación usaste?, ¿que error tienes?, ¿es bueno?, ¿cómo lo sabes?"
      ],
      "metadata": {
        "id": "qjbBhvoDds21"
      }
    },
    {
      "cell_type": "markdown",
      "source": [
        "> EL método que mejores resultados está presentando es el de **Regresión Polinomial**. Debido a que este tiene un índice más alto de R2 **(0.7586)**, esto se ve reflejado en el gráfico, donde podemos visualizar cómo los datos presentan una ligera curva, la ventaja de utilizar la Regresión Polinomial es que va aplicando estas curvas a nuestra  predicción, pudiendo obtener valores más similares entre la predicción y el test. Por otro lado, el MAE, no nos indica mas que el punto donde se concentra una mayor cantidad de valores.\n",
        "\n",
        "> Usé un porcentaje de entrenaiento de **80%** y de prueba de **20%**, busqué distribuir de esta forma los datos para tener un alto número de entrenamiento y poder evaluar con una considerable muestra de los datos.\n",
        "\n",
        ">Tenemos dos errores. Los cuales nos representan que el mayor conjunto de datos se presenta en los valores cercanos al 122015, esto con base a los valores presentados en nuestra única feature representada con la variable X. Ambos son errores similares, es donde se concentra la mayor cantidad de muestras.\n",
        "* Error medio Absoluto (MAE): 122015.80006144893\n",
        "* Root Mean Squared Error (RMSE): 181470.06574727758\n",
        "* r2_score 0.7586232413126757\n",
        "\n",
        ">No es malo, ni bueno. Simplemente nos presenta un panorama de dónde estamos teniendo una mayor concentración de datos, por lo tanto, considerar esta parte para el modelo y para los distintos conjuntos de datos que se llegarían a testear."
      ],
      "metadata": {
        "id": "ucI7KG4vdzl_"
      }
    }
  ]
}