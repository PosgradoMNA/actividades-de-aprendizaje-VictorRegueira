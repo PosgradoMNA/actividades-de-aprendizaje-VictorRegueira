{
  "nbformat": 4,
  "nbformat_minor": 0,
  "metadata": {
    "colab": {
      "provenance": [],
      "collapsed_sections": [],
      "toc_visible": true,
      "authorship_tag": "ABX9TyNGR8jSr2HOHRHPtT2tN9qh",
      "include_colab_link": true
    },
    "kernelspec": {
      "name": "python3",
      "display_name": "Python 3"
    },
    "language_info": {
      "name": "python"
    }
  },
  "cells": [
    {
      "cell_type": "markdown",
      "metadata": {
        "id": "view-in-github",
        "colab_type": "text"
      },
      "source": [
        "<a href=\"https://colab.research.google.com/github/PosgradoMNA/actividades-de-aprendizaje-VictorRegueira/blob/main/IBM_Curso/IBM_Python_Mod5.ipynb\" target=\"_parent\"><img src=\"https://colab.research.google.com/assets/colab-badge.svg\" alt=\"Open In Colab\"/></a>"
      ]
    },
    {
      "cell_type": "markdown",
      "source": [
        "# Módulo 5"
      ],
      "metadata": {
        "id": "ByOFkSyUARDK"
      }
    },
    {
      "cell_type": "markdown",
      "source": [
        "Víctor Alejandro Regueira Romero - A01794404"
      ],
      "metadata": {
        "id": "4JTn3JgiHUX-"
      }
    },
    {
      "cell_type": "markdown",
      "source": [
        "---"
      ],
      "metadata": {
        "id": "O9iYihIHM5a_"
      }
    },
    {
      "cell_type": "markdown",
      "source": [
        "## IBM Course"
      ],
      "metadata": {
        "id": "EDpRHl6cs2e3"
      }
    },
    {
      "cell_type": "code",
      "source": [
        "import numpy as np\n",
        "np.array([1,-1])*np.array([1,1])"
      ],
      "metadata": {
        "colab": {
          "base_uri": "https://localhost:8080/"
        },
        "id": "r62rmr956ml_",
        "outputId": "8b23cb29-9302-4b5d-b757-c07a911d0552"
      },
      "execution_count": 3,
      "outputs": [
        {
          "output_type": "execute_result",
          "data": {
            "text/plain": [
              "array([ 1, -1])"
            ]
          },
          "metadata": {},
          "execution_count": 3
        }
      ]
    },
    {
      "cell_type": "code",
      "source": [
        "np.dot(np.array([1,-1]),np.array([1,1]))"
      ],
      "metadata": {
        "colab": {
          "base_uri": "https://localhost:8080/"
        },
        "id": "9132rQOV7SBW",
        "outputId": "309a97df-315f-4aa4-a080-df33f346166a"
      },
      "execution_count": 4,
      "outputs": [
        {
          "output_type": "execute_result",
          "data": {
            "text/plain": [
              "0"
            ]
          },
          "metadata": {},
          "execution_count": 4
        }
      ]
    },
    {
      "cell_type": "markdown",
      "source": [
        "---"
      ],
      "metadata": {
        "id": "BxnOWdpUBVM7"
      }
    },
    {
      "cell_type": "code",
      "source": [
        "A = np.array([[1,2],[3,4],[5,6],[7,8]])\n",
        "A.shape"
      ],
      "metadata": {
        "colab": {
          "base_uri": "https://localhost:8080/"
        },
        "id": "4eGgINyrBWUV",
        "outputId": "558a11de-4d31-458a-b81d-ac6fe5fdc5ee"
      },
      "execution_count": 5,
      "outputs": [
        {
          "output_type": "execute_result",
          "data": {
            "text/plain": [
              "(4, 2)"
            ]
          },
          "metadata": {},
          "execution_count": 5
        }
      ]
    },
    {
      "cell_type": "code",
      "source": [
        "#A = np.array([[1,2],[3,4],[5,6],[7,8]])\n",
        "\n",
        "#B = np.array([[1,2,3],[4,5,6],[7,8,9]])\n",
        "\n",
        "#np.dot(A,B) "
      ],
      "metadata": {
        "id": "qMTrYuSYBcvn"
      },
      "execution_count": 7,
      "outputs": []
    },
    {
      "cell_type": "markdown",
      "source": [
        "---"
      ],
      "metadata": {
        "id": "IId1ED5KM3LF"
      }
    },
    {
      "cell_type": "code",
      "source": [
        "a=np.array([0,1,0,1,0])\n",
        "\n",
        "b=np.array([1,0,1,0,1])\n",
        "\n",
        "a*b"
      ],
      "metadata": {
        "colab": {
          "base_uri": "https://localhost:8080/"
        },
        "id": "0Vwi2aMLGKpF",
        "outputId": "558db0a2-c6a3-4f5e-aea2-eecaeb1d15a1"
      },
      "execution_count": 9,
      "outputs": [
        {
          "output_type": "execute_result",
          "data": {
            "text/plain": [
              "array([0, 0, 0, 0, 0])"
            ]
          },
          "metadata": {},
          "execution_count": 9
        }
      ]
    },
    {
      "cell_type": "code",
      "source": [
        "a=np.array([0,1])\n",
        "\n",
        "b=np.array([1,0])\n",
        "\n",
        "np.dot(a,b)"
      ],
      "metadata": {
        "colab": {
          "base_uri": "https://localhost:8080/"
        },
        "id": "p4TZaQYhNH6c",
        "outputId": "f662eba6-ae72-4028-9c58-a84ce1884cf1"
      },
      "execution_count": 10,
      "outputs": [
        {
          "output_type": "execute_result",
          "data": {
            "text/plain": [
              "0"
            ]
          },
          "metadata": {},
          "execution_count": 10
        }
      ]
    },
    {
      "cell_type": "code",
      "source": [
        "a=np.array([1,1,1,1,1])\n",
        "\n",
        "a+10 "
      ],
      "metadata": {
        "colab": {
          "base_uri": "https://localhost:8080/"
        },
        "id": "zgNXZO5FNLoJ",
        "outputId": "d12bc7ec-55f6-42d0-f55a-606b58d8ad13"
      },
      "execution_count": 11,
      "outputs": [
        {
          "output_type": "execute_result",
          "data": {
            "text/plain": [
              "array([11, 11, 11, 11, 11])"
            ]
          },
          "metadata": {},
          "execution_count": 11
        }
      ]
    },
    {
      "cell_type": "markdown",
      "source": [
        "## Labs"
      ],
      "metadata": {
        "id": "ccqczrp_tw69"
      }
    },
    {
      "cell_type": "markdown",
      "source": [
        "[PY0101EN-5-1-Numpy1D.ipynb](https://github.com/PosgradoMNA/actividades-de-aprendizaje-VictorRegueira/blob/main/IBM_Curso/Labs-Modulo5/PY0101EN-5-1-Numpy1D.ipynb)\n",
        "\n",
        "[PY0101EN-5-2-Numpy2D.ipynb](https://github.com/PosgradoMNA/actividades-de-aprendizaje-VictorRegueira/blob/main/IBM_Curso/Labs-Modulo5/PY0101EN-5-2-Numpy2D.ipynb)\n",
        "\n",
        "[PY0101EN-5.3_Requests_HTTP.ipynb](https://github.com/PosgradoMNA/actividades-de-aprendizaje-VictorRegueira/blob/main/IBM_Curso/Labs-Modulo5/PY0101EN-5.3_Requests_HTTP.ipynb)"
      ],
      "metadata": {
        "id": "P0XCtFsKAunq"
      }
    },
    {
      "cell_type": "markdown",
      "source": [
        "## Quiz"
      ],
      "metadata": {
        "id": "g4YZgrWL6ggC"
      }
    },
    {
      "cell_type": "markdown",
      "source": [
        "[5.1_notebook_quizz_numpy1d.jupyterlite.ipynb](https://github.com/PosgradoMNA/actividades-de-aprendizaje-VictorRegueira/blob/main/IBM_Curso/Labs-Modulo5/5.1_notebook_quizz_numpy1d.jupyterlite.ipynb)\n",
        "\n",
        "[5.2_notebook_quizz_numpy.jupyterlite](https://github.com/PosgradoMNA/actividades-de-aprendizaje-VictorRegueira/blob/main/IBM_Curso/Labs-Modulo5/5.2_notebook_quizz_numpy.jupyterlite.ipynb)"
      ],
      "metadata": {
        "id": "57BJnnxIHuiQ"
      }
    },
    {
      "cell_type": "code",
      "source": [],
      "metadata": {
        "id": "JrXYLdbFIr6k"
      },
      "execution_count": null,
      "outputs": []
    }
  ]
}