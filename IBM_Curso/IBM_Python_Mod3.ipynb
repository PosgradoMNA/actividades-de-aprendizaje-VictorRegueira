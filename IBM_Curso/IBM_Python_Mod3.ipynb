{
  "metadata": {
    "kernelspec": {
      "name": "python",
      "display_name": "Pyolite",
      "language": "python"
    },
    "language_info": {
      "codemirror_mode": {
        "name": "python",
        "version": 3
      },
      "file_extension": ".py",
      "mimetype": "text/x-python",
      "name": "python",
      "nbconvert_exporter": "python",
      "pygments_lexer": "ipython3",
      "version": "3.8"
    },
    "colab": {
      "provenance": [],
      "toc_visible": true,
      "include_colab_link": true
    }
  },
  "nbformat_minor": 0,
  "nbformat": 4,
  "cells": [
    {
      "cell_type": "markdown",
      "metadata": {
        "id": "view-in-github",
        "colab_type": "text"
      },
      "source": [
        "<a href=\"https://colab.research.google.com/github/PosgradoMNA/actividades-de-aprendizaje-VictorRegueira/blob/main/IBM_Curso/IBM_Python_Mod3.ipynb\" target=\"_parent\"><img src=\"https://colab.research.google.com/assets/colab-badge.svg\" alt=\"Open In Colab\"/></a>"
      ]
    },
    {
      "cell_type": "markdown",
      "source": [
        "# Conditions and Branching."
      ],
      "metadata": {
        "id": "wVirutUDk93h"
      }
    },
    {
      "cell_type": "markdown",
      "source": [
        "<h3>Comparison Operations</h3> \n"
      ],
      "metadata": {
        "id": "AUUZtgMNkvcb"
      }
    },
    {
      "cell_type": "markdown",
      "source": [
        "Find the value of <code>i</code> that produces a <code>True</code>:\n"
      ],
      "metadata": {
        "id": "wczXUJAHkvce"
      }
    },
    {
      "cell_type": "code",
      "source": [
        "i=1\n",
        "i!=0"
      ],
      "metadata": {
        "trusted": true,
        "id": "r06as5ESkvch",
        "outputId": "9fae9763-6484-4df7-d72d-f06e7b678364",
        "colab": {
          "base_uri": "https://localhost:8080/"
        }
      },
      "execution_count": 2,
      "outputs": [
        {
          "output_type": "execute_result",
          "data": {
            "text/plain": [
              "True"
            ]
          },
          "metadata": {},
          "execution_count": 2
        }
      ]
    },
    {
      "cell_type": "markdown",
      "source": [
        "<details><summary>Click here for the solution</summary>\n",
        "\n",
        "```python\n",
        "i = 1 \n",
        "\n",
        "# any value other than 0 will produce output as True\n",
        "```\n",
        "\n",
        "</details>\n"
      ],
      "metadata": {
        "id": "vutNDpn9kvcj"
      }
    },
    {
      "cell_type": "markdown",
      "source": [
        "<h3>Branching </h3> \n"
      ],
      "metadata": {
        "id": "n-mEdZ6ykvcl"
      }
    },
    {
      "cell_type": "markdown",
      "source": [
        "Find the value of <code>x</code> that prints the statement <code>\"this is a\"</code>:\n"
      ],
      "metadata": {
        "id": "15qNs1SGkvcn"
      }
    },
    {
      "cell_type": "code",
      "source": [
        "x = 'a'\n",
        "if(x=='a'):\n",
        "    print(\"this is a\")\n",
        "else:\n",
        "    print(\"this is  not a\")"
      ],
      "metadata": {
        "trusted": true,
        "id": "dgEAF8lLkvco",
        "outputId": "f5f417ba-063a-4433-a87b-d142b699828e",
        "colab": {
          "base_uri": "https://localhost:8080/"
        }
      },
      "execution_count": 4,
      "outputs": [
        {
          "output_type": "stream",
          "name": "stdout",
          "text": [
            "this is a\n"
          ]
        }
      ]
    },
    {
      "cell_type": "markdown",
      "source": [
        "<details><summary>Click here for the solution</summary>\n",
        "\n",
        "```python\n",
        "x = 'a'\n",
        "```\n",
        "\n",
        "</details>\n"
      ],
      "metadata": {
        "id": "zkzohiOnkvcp"
      }
    },
    {
      "cell_type": "markdown",
      "source": [
        "<h3>Logic Operators</h3> \n"
      ],
      "metadata": {
        "id": "hAiHTJpXkvcs"
      }
    },
    {
      "cell_type": "markdown",
      "source": [
        "Find the value of <code>y</code> that produces a <code>True</code> statement:\n"
      ],
      "metadata": {
        "id": "FXG9Ftdjkvcw"
      }
    },
    {
      "cell_type": "code",
      "source": [
        "y= 1\n",
        "x=1\n",
        "x>0 and y<10"
      ],
      "metadata": {
        "trusted": true,
        "id": "RJ7ssYWekvcx",
        "outputId": "a9798d11-6f45-4f0b-9cb5-f824d27b812c",
        "colab": {
          "base_uri": "https://localhost:8080/"
        }
      },
      "execution_count": 5,
      "outputs": [
        {
          "output_type": "execute_result",
          "data": {
            "text/plain": [
              "True"
            ]
          },
          "metadata": {},
          "execution_count": 5
        }
      ]
    },
    {
      "cell_type": "markdown",
      "source": [
        "# Loops"
      ],
      "metadata": {
        "id": "hC-Rdxi6lNE2"
      }
    },
    {
      "cell_type": "code",
      "source": [
        "A=[3,4,5]"
      ],
      "metadata": {
        "id": "Qt4AngJJlTXZ"
      },
      "execution_count": 8,
      "outputs": []
    },
    {
      "cell_type": "code",
      "source": [
        "for a in A:\n",
        "  print(a)"
      ],
      "metadata": {
        "id": "US-jnC0AldW7",
        "outputId": "9fcd6f26-8c63-4692-a0df-f054cea606c1",
        "colab": {
          "base_uri": "https://localhost:8080/"
        }
      },
      "execution_count": 11,
      "outputs": [
        {
          "output_type": "stream",
          "name": "stdout",
          "text": [
            "3\n",
            "4\n",
            "5\n"
          ]
        }
      ]
    },
    {
      "cell_type": "code",
      "source": [
        "\n",
        "\n",
        "x=3\n",
        "\n",
        "y=1\n",
        "\n",
        "while(y!=x):\n",
        "  print(y)\n",
        "  y=y+1\n"
      ],
      "metadata": {
        "id": "81VRUc7BlpsW",
        "outputId": "d2c3c938-d2e4-4fca-b0da-e67a06d76d35",
        "colab": {
          "base_uri": "https://localhost:8080/"
        }
      },
      "execution_count": 13,
      "outputs": [
        {
          "output_type": "stream",
          "name": "stdout",
          "text": [
            "1\n",
            "2\n"
          ]
        }
      ]
    },
    {
      "cell_type": "markdown",
      "source": [
        "For Loops\n",
        "\n",
        "Use loops to print out the elements in the list A:\n",
        "\n",
        "A=[3,4,5]\n",
        "\n",
        "​\n",
        "\n",
        "Click here for the solution\n",
        "While Loops\n",
        "\n",
        "Find the value of  x that will print out the sequence  1,2,..,10 :\n",
        "\n",
        "x= 11\n",
        "\n",
        "y=1\n",
        "\n",
        "while(y != x):\n",
        "\n",
        "    print(y)\n",
        "\n",
        "    y=y+1\n",
        "\n",
        "1\n",
        "2\n",
        "3\n",
        "4\n",
        "5\n",
        "6\n",
        "7\n",
        "8\n",
        "9\n",
        "10\n",
        "\n"
      ],
      "metadata": {
        "id": "Q0d3WadFl_Vq"
      }
    },
    {
      "cell_type": "markdown",
      "source": [
        "# Functions"
      ],
      "metadata": {
        "id": "DCVEbbs4mGpQ"
      }
    },
    {
      "cell_type": "code",
      "source": [
        "\n",
        "\n",
        "a=1\n",
        "\n",
        "def add(b):\n",
        "\n",
        "  return a+b\n",
        "\n",
        "c=add(10)\n",
        "\n",
        "c\n"
      ],
      "metadata": {
        "id": "gWfXkKv3l_7K",
        "outputId": "d4e99934-35df-469e-8eba-9e570be4ed54",
        "colab": {
          "base_uri": "https://localhost:8080/"
        }
      },
      "execution_count": 18,
      "outputs": [
        {
          "output_type": "execute_result",
          "data": {
            "text/plain": [
              "11"
            ]
          },
          "metadata": {},
          "execution_count": 18
        }
      ]
    },
    {
      "cell_type": "code",
      "source": [
        "\n",
        "\n",
        "def f(*x):\n",
        "\n",
        "  return sum(x)\n",
        "\n",
        "f(c)\n"
      ],
      "metadata": {
        "id": "Jicghu1UmZaP",
        "outputId": "8dc440c8-14bd-4639-aa60-0c73f743ddb0",
        "colab": {
          "base_uri": "https://localhost:8080/"
        }
      },
      "execution_count": 20,
      "outputs": [
        {
          "output_type": "execute_result",
          "data": {
            "text/plain": [
              "11"
            ]
          },
          "metadata": {},
          "execution_count": 20
        }
      ]
    },
    {
      "cell_type": "markdown",
      "source": [
        "Function¶\n",
        "\n",
        "Complete the function  f so that it returns the product of a and b. Use the next cell to test the function.\n",
        "\n",
        "def f(a,b):\n",
        "\n",
        "    \n",
        "\n",
        "    return a*b\n",
        "\n",
        "Click here for the solution\n",
        "\n",
        "def f(a,b):\n",
        "    \n",
        "    return a*b\n",
        "    \n",
        "\n",
        "Test the function using the next cell:\n",
        "\n",
        "a=4\n",
        "\n",
        "b=2\n",
        "\n",
        "​\n",
        "\n",
        "if a*b==f(a,b):   \n",
        "\n",
        "    print(\"Correct.\")   \n",
        "\n",
        "else:    \n",
        "\n",
        "    print(\"Incorrect.\")\n",
        "\n",
        "Correct.\n",
        "\n",
        "Complete the function g such that the input c is a list of integers and the output is the sum of all the elements in the list.\n",
        "\n",
        "def g(c):\n",
        "\n",
        "​\n",
        "\n",
        "    return sum(c)\n",
        "\n",
        "Click here for the solution\n",
        "\n",
        "def g(c):\n",
        "\n",
        "    return sum(c) \n",
        "    \n",
        "\n",
        "Test the function using the next cell:\n",
        "\n",
        "c=[1,2,3,4,5]\n",
        "\n",
        "​\n",
        "\n",
        "if sum(c)==g(c):   \n",
        "\n",
        "    print(\"Correct.\")   \n",
        "\n",
        "else:    \n",
        "\n",
        "    print(\"Incorrect.\")\n",
        "\n",
        "Correct.\n",
        "\n"
      ],
      "metadata": {
        "id": "ZcCT8N2InIUS"
      }
    },
    {
      "cell_type": "markdown",
      "source": [
        "# Objects and classes"
      ],
      "metadata": {
        "id": "o6_rew23nKQC"
      }
    },
    {
      "cell_type": "code",
      "source": [
        "class Car(object):\n",
        "\n",
        "    def __init__(self,make,model,color):\n",
        "\n",
        "        self.make=make;\n",
        "\n",
        "        self.model=model;\n",
        "\n",
        "        self.color=color;\n",
        "\n",
        "        self.owner_number=0 \n",
        "\n",
        "    def car_info(self):\n",
        "\n",
        "        print(\"make: \",self.make)\n",
        "\n",
        "        print(\"model:\", self.model)\n",
        "\n",
        "        print(\"color:\",self.color)\n",
        "\n",
        "        print(\"number of owners:\",self.owner_number)\n",
        "\n",
        "    def sell(self):\n",
        "\n",
        "        self.owner_number=self.owner_number+1"
      ],
      "metadata": {
        "id": "8zMU9Sj-nJQn"
      },
      "execution_count": 21,
      "outputs": []
    },
    {
      "cell_type": "code",
      "source": [],
      "metadata": {
        "id": "nXmAkXvnn9ku"
      },
      "execution_count": null,
      "outputs": []
    },
    {
      "cell_type": "markdown",
      "source": [
        "You will need the class Car for the next exercises. The class Car has four data attributes: make, model, colour and number of owners (owner_number). The method  car_info() prints out the data attributes and the method sell() increments the number of owners by 1.\n",
        "\n",
        "class Car(object):\n",
        "\n",
        "    def __init__(self,make,model,color):\n",
        "\n",
        "        self.make=make;\n",
        "\n",
        "        self.model=model;\n",
        "\n",
        "        self.color=color;\n",
        "\n",
        "        self.owner_number=0 \n",
        "\n",
        "    def car_info(self):\n",
        "\n",
        "        print(\"make: \",self.make)\n",
        "\n",
        "        print(\"model:\", self.model)\n",
        "\n",
        "        print(\"color:\",self.color)\n",
        "\n",
        "        print(\"number of owners:\",self.owner_number)\n",
        "\n",
        "    def sell(self):\n",
        "\n",
        "        self.owner_number=self.owner_number+1\n",
        "\n",
        "Create a Car Object\n",
        "\n",
        "Create a  Car object \"my_car\" with the given data attributes:\n",
        "\n",
        "make=\"BMW\"\n",
        "\n",
        "model=\"M3\"\n",
        "\n",
        "color=\"red\"\n",
        "\n",
        "​\n",
        "\n",
        "my_car = Car(make,model,color)\n",
        "\n",
        "Click here for the solution\n",
        "\n",
        "my_car = Car(make,model,color)\n",
        "    \n",
        "\n",
        "Data Attributes\n",
        "\n",
        "Use the method car_info() to print out the data attributes.\n",
        "\n",
        "my_car.car_info()\n",
        "\n",
        "make:  BMW\n",
        "model: M3\n",
        "color: red\n",
        "number of owners: 0\n",
        "\n",
        "Click here for the solution\n",
        "\n",
        "my_car.car_info()\n",
        "    \n",
        "\n",
        "Methods\n",
        "\n",
        "Call the method  sell() in the loop, then call the method  car_info() again\n",
        "\n",
        "for i in range(5):\n",
        "\n",
        "    my_car.sell()\n",
        "\n",
        "my_car.car_info()\n",
        "\n",
        "​\n",
        "\n",
        "make:  BMW\n",
        "model: M3\n",
        "color: red\n",
        "number of owners: 10\n",
        "\n",
        "Click here for the solution\n",
        "\n",
        "for i in range(5):\n",
        "    my_car.sell()\n",
        "\n",
        "my_car.car_info()\n",
        "    \n",
        "\n"
      ],
      "metadata": {
        "id": "RMjvzdtPn4nl"
      }
    },
    {
      "cell_type": "markdown",
      "source": [
        "# Exception Handling"
      ],
      "metadata": {
        "id": "iE5qLb-koZua"
      }
    },
    {
      "cell_type": "code",
      "source": [],
      "metadata": {
        "id": "LVBRLKuBodZ0"
      },
      "execution_count": null,
      "outputs": []
    },
    {
      "cell_type": "markdown",
      "source": [
        "Try Except Specific Example\n",
        "\n",
        "This is the same example as above, but now we will add differentiated messages depending on the exception, letting the user know what is wrong with the input.\n",
        "\n",
        "a = 1\n",
        "\n",
        "​\n",
        "\n",
        "try:\n",
        "\n",
        "    b = int(input(\"Please enter a number to divide a\"))\n",
        "\n",
        "    a = a/b\n",
        "\n",
        "    print(\"Success a=\",a)\n",
        "\n",
        "except ZeroDivisionError:\n",
        "\n",
        "    print(\"The number you provided cant divide 1 because it is 0\")\n",
        "\n",
        "except ValueError:\n",
        "\n",
        "    print(\"You did not provide a number\")\n",
        "\n",
        "except:\n",
        "\n",
        "    print(\"Something went wrong\")\n",
        "\n",
        "        \n",
        "\n",
        "​\n",
        "\n",
        "Something went wrong\n",
        "\n",
        "Please enter a number to divide a 10\n",
        "\n",
        "Try Except Else and Finally\n",
        "\n",
        "else allows one to check if there was no exception when executing the try block. This is useful when we want to execute something only if there were no errors.\n",
        "\n",
        "do not run, just to illustrate\n",
        "\n",
        "# potential code before try catch\n",
        "\n",
        "​\n",
        "\n",
        "try:\n",
        "\n",
        "    # code to try to execute\n",
        "\n",
        "except ZeroDivisionError:\n",
        "\n",
        "    # code to execute if there is a ZeroDivisionError\n",
        "\n",
        "except NameError:\n",
        "\n",
        "    # code to execute if there is a NameError\n",
        "\n",
        "except:\n",
        "\n",
        "    # code to execute if ther is any exception\n",
        "\n",
        "else:\n",
        "\n",
        "    # code to execute if there is no exception\n",
        "\n",
        "    \n",
        "code that will execute if there is no exception or a one that we are handling\n",
        "\n",
        "finally allows us to always execute something even if there is an exception or not. This is usually used to signify the end of the try except.\n",
        "\n",
        "potential code before try catch\n",
        "\n",
        "​\n",
        "\n",
        "try:\n",
        "\n",
        "    # code to try to execute\n",
        "\n",
        "except ZeroDivisionError:\n",
        "\n",
        "    # code to execute if there is a ZeroDivisionError\n",
        "\n",
        "except NameError:\n",
        "\n",
        "    # code to execute if there is a NameError\n",
        "\n",
        "except:\n",
        "\n",
        "    # code to execute if ther is any exception\n",
        "\n",
        "else:\n",
        "\n",
        "    # code to execute if there is no exception\n",
        "\n",
        "finally:\n",
        "\n",
        "    # code to execute at the end of the try except no matter what\n",
        "\n",
        "    \n",
        "code that will execute if there is no exception or a one that we are handling\n",
        "\n",
        "Try Except Else and Finally Example\n",
        "\n",
        "You might have noticed that even if there is an error the value of a is always printed. Let's use the else and print the value of a only if there is no error.\n",
        "\n",
        "a = 1\n",
        "\n",
        "​\n",
        "\n",
        "try:\n",
        "\n",
        "    b = int(input(\"Please enter a number to divide a\"))\n",
        "\n",
        "    a = a/b\n",
        "\n",
        "except ZeroDivisionError:\n",
        "\n",
        "    print(\"The number you provided cant divide 1 because it is 0\")\n",
        "\n",
        "except ValueError:\n",
        "\n",
        "    print(\"You did not provide a number\")\n",
        "\n",
        "except:\n",
        "\n",
        "    print(\"Something went wrong\")\n",
        "\n",
        "else:\n",
        "\n",
        "    print(\"success a=\",a)\n",
        "\n",
        "Now lets let the user know that we are done processing their answer. Using the finally, let's add a print.\n",
        "\n",
        "a = 1\n",
        "\n",
        "​\n",
        "\n",
        "try:\n",
        "\n",
        "    b = int(input(\"Please enter a number to divide a\"))\n",
        "\n",
        "    a = a/b\n",
        "\n",
        "except ZeroDivisionError:\n",
        "\n",
        "    print(\"The number you provided cant divide 1 because it is 0\")\n",
        "\n",
        "except ValueError:\n",
        "\n",
        "    print(\"You did not provide a number\")\n",
        "\n",
        "except:\n",
        "\n",
        "    print(\"Something went wrong\")\n",
        "\n",
        "else:\n",
        "\n",
        "    print(\"success a=\",a)\n",
        "\n",
        "finally:\n",
        "\n",
        "    print(\"Processing Complete\")\n",
        "\n",
        "Authors"
      ],
      "metadata": {
        "id": "ZfxKAiCUpSq1"
      }
    },
    {
      "cell_type": "code",
      "source": [],
      "metadata": {
        "id": "B26hZgr4pTTy"
      },
      "execution_count": null,
      "outputs": []
    },
    {
      "cell_type": "markdown",
      "source": [
        "# Quiz"
      ],
      "metadata": {
        "id": "2VIjq6Blp40n"
      }
    },
    {
      "cell_type": "code",
      "source": [
        "\n",
        "\n",
        "def Delta(x):\n",
        "\n",
        "  if x==0:\n",
        "\n",
        "    y=1;\n",
        "\n",
        "  else:\n",
        "\n",
        "    y=0;\n",
        "\n",
        "  return(y)\n",
        "Delta(0)"
      ],
      "metadata": {
        "id": "3ODn68Q-p6v6",
        "outputId": "f128ccbb-2fd8-4405-d1de-64fcd146b2ff",
        "colab": {
          "base_uri": "https://localhost:8080/"
        }
      },
      "execution_count": 24,
      "outputs": [
        {
          "output_type": "execute_result",
          "data": {
            "text/plain": [
              "1"
            ]
          },
          "metadata": {},
          "execution_count": 24
        }
      ]
    }
  ]
}