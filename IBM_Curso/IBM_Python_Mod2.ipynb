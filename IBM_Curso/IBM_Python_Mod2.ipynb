{
  "cells": [
    {
      "cell_type": "markdown",
      "metadata": {
        "id": "view-in-github",
        "colab_type": "text"
      },
      "source": [
        "<a href=\"https://colab.research.google.com/github/PosgradoMNA/actividades-de-aprendizaje-VictorRegueira/blob/main/IBM_Curso/IBM_Python_Mod2.ipynb\" target=\"_parent\"><img src=\"https://colab.research.google.com/assets/colab-badge.svg\" alt=\"Open In Colab\"/></a>"
      ]
    },
    {
      "cell_type": "markdown",
      "metadata": {
        "id": "M5EVSM7hPJRa"
      },
      "source": [
        "# Curso de IBM Módulo 2"
      ]
    },
    {
      "cell_type": "markdown",
      "metadata": {
        "id": "wcgG0MxkPJRe"
      },
      "source": [
        "## Lists and Tupples"
      ]
    },
    {
      "cell_type": "code",
      "execution_count": 1,
      "metadata": {
        "id": "LO3y1E9vPJRg"
      },
      "outputs": [],
      "source": [
        "A=(0,1,2,3)"
      ]
    },
    {
      "cell_type": "code",
      "source": [
        "A"
      ],
      "metadata": {
        "id": "i7qzUI__PaE1",
        "outputId": "6122d47d-f655-4e9e-991b-14ffc954b263",
        "colab": {
          "base_uri": "https://localhost:8080/"
        }
      },
      "execution_count": 3,
      "outputs": [
        {
          "output_type": "execute_result",
          "data": {
            "text/plain": [
              "(0, 1, 2, 3)"
            ]
          },
          "metadata": {},
          "execution_count": 3
        }
      ]
    },
    {
      "cell_type": "code",
      "source": [
        "A[-1]"
      ],
      "metadata": {
        "id": "zodUA90uPbRX",
        "outputId": "978caa23-202e-4518-a795-6d2b63617ddc",
        "colab": {
          "base_uri": "https://localhost:8080/"
        }
      },
      "execution_count": 5,
      "outputs": [
        {
          "output_type": "execute_result",
          "data": {
            "text/plain": [
              "3"
            ]
          },
          "metadata": {},
          "execution_count": 5
        }
      ]
    },
    {
      "cell_type": "code",
      "source": [
        "#A[end]\n",
        "#No funciona"
      ],
      "metadata": {
        "id": "ELWiaKGEPf_x"
      },
      "execution_count": 16,
      "outputs": []
    },
    {
      "cell_type": "code",
      "source": [
        "B=[\"a\",\"b\",\"c\"]"
      ],
      "metadata": {
        "id": "MH6K8KD7PpGK"
      },
      "execution_count": 9,
      "outputs": []
    },
    {
      "cell_type": "code",
      "source": [
        "B[1:]"
      ],
      "metadata": {
        "id": "-0kO15MDPqDV",
        "outputId": "c906a509-8c97-4dc1-d2f6-eb656e8ed591",
        "colab": {
          "base_uri": "https://localhost:8080/"
        }
      },
      "execution_count": 11,
      "outputs": [
        {
          "output_type": "execute_result",
          "data": {
            "text/plain": [
              "['b', 'c']"
            ]
          },
          "metadata": {},
          "execution_count": 11
        }
      ]
    },
    {
      "cell_type": "code",
      "source": [
        "B"
      ],
      "metadata": {
        "id": "TYksOIo9PvGe",
        "outputId": "684c94c7-40a6-431e-911f-75bb4f8058f8",
        "colab": {
          "base_uri": "https://localhost:8080/"
        }
      },
      "execution_count": 14,
      "outputs": [
        {
          "output_type": "execute_result",
          "data": {
            "text/plain": [
              "['a', 'b', 'c']"
            ]
          },
          "metadata": {},
          "execution_count": 14
        }
      ]
    },
    {
      "cell_type": "code",
      "source": [],
      "metadata": {
        "id": "_ohes8RNSkGE"
      },
      "execution_count": null,
      "outputs": []
    },
    {
      "cell_type": "markdown",
      "source": [
        "# Ejercicios"
      ],
      "metadata": {
        "id": "_X8kLho7Sqgg"
      }
    },
    {
      "cell_type": "markdown",
      "source": [
        "Create a Tuple\n",
        "Find the Elements of a Tuple\n",
        "\n",
        "Find the first two elements of tuple  A :\n",
        "\n",
        "A[0:2]\n",
        "\n",
        "(0, 1)\n",
        "\n",
        "Click here for the solution\n",
        "\n",
        "A[0:2]\n",
        "\n",
        "Lists\n",
        "\n",
        "For the next few questions, you will need the following list:\n",
        "\n",
        "B=[\"a\",\"b\",\"c\"]\n",
        "\n",
        "Find the first two elements of the list  B:\n",
        "\n",
        "B[0:2]\n",
        "\n",
        "['a', 'b']\n",
        "\n",
        "Click here for the solution\n",
        "\n",
        "B[0:2]\n",
        "\n",
        "Change the first element of the list to an uppercase \"A\".\n",
        "\n",
        "B[0] = B[0].upper()\n",
        "\n",
        "B[0]\n",
        "\n",
        "'A'\n",
        "\n",
        "Click here for the solution"
      ],
      "metadata": {
        "id": "697hXL0SVb3r"
      }
    },
    {
      "cell_type": "code",
      "source": [],
      "metadata": {
        "id": "ehpB345UVjiE"
      },
      "execution_count": null,
      "outputs": []
    }
  ],
  "metadata": {
    "kernelspec": {
      "display_name": "Python 3.10.6 64-bit",
      "language": "python",
      "name": "python3"
    },
    "language_info": {
      "codemirror_mode": {
        "name": "ipython",
        "version": 3
      },
      "file_extension": ".py",
      "mimetype": "text/x-python",
      "name": "python",
      "nbconvert_exporter": "python",
      "pygments_lexer": "ipython3",
      "version": "3.10.6"
    },
    "orig_nbformat": 4,
    "vscode": {
      "interpreter": {
        "hash": "b27fa327a95f0eef0f878177ae37ed790559c26732ddc28a8c687325a6119dd9"
      }
    },
    "colab": {
      "provenance": [],
      "toc_visible": true,
      "include_colab_link": true
    }
  },
  "nbformat": 4,
  "nbformat_minor": 0
}