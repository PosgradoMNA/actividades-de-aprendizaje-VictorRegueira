{
  "cells": [
    {
      "cell_type": "markdown",
      "metadata": {
        "id": "view-in-github",
        "colab_type": "text"
      },
      "source": [
        "<a href=\"https://colab.research.google.com/github/PosgradoMNA/actividades-de-aprendizaje-VictorRegueira/blob/main/IBM_Curso/IBM_Python_Mod2.ipynb\" target=\"_parent\"><img src=\"https://colab.research.google.com/assets/colab-badge.svg\" alt=\"Open In Colab\"/></a>"
      ]
    },
    {
      "cell_type": "markdown",
      "metadata": {
        "id": "M5EVSM7hPJRa"
      },
      "source": [
        "# Curso de IBM Módulo 2\n","Víctor Alejandro Regueira Romero A01794404"
      ]
    },
    {
      "cell_type": "markdown",
      "metadata": {
        "id": "wcgG0MxkPJRe"
      },
      "source": [
        "## Lists and Tupples"
      ]
    },
    {
      "cell_type": "code",
      "execution_count": 1,
      "metadata": {
        "id": "LO3y1E9vPJRg"
      },
      "outputs": [],
      "source": [
        "A=(0,1,2,3)"
      ]
    },
    {
      "cell_type": "code",
      "source": [
        "A"
      ],
      "metadata": {
        "colab": {
          "base_uri": "https://localhost:8080/"
        },
        "id": "i7qzUI__PaE1",
        "outputId": "6122d47d-f655-4e9e-991b-14ffc954b263"
      },
      "execution_count": 3,
      "outputs": [
        {
          "output_type": "execute_result",
          "data": {
            "text/plain": [
              "(0, 1, 2, 3)"
            ]
          },
          "metadata": {},
          "execution_count": 3
        }
      ]
    },
    {
      "cell_type": "code",
      "source": [
        "A[-1]"
      ],
      "metadata": {
        "colab": {
          "base_uri": "https://localhost:8080/"
        },
        "id": "zodUA90uPbRX",
        "outputId": "978caa23-202e-4518-a795-6d2b63617ddc"
      },
      "execution_count": 5,
      "outputs": [
        {
          "output_type": "execute_result",
          "data": {
            "text/plain": [
              "3"
            ]
          },
          "metadata": {},
          "execution_count": 5
        }
      ]
    },
    {
      "cell_type": "code",
      "source": [
        "#A[end]\n",
        "#No funciona"
      ],
      "metadata": {
        "id": "ELWiaKGEPf_x"
      },
      "execution_count": 16,
      "outputs": []
    },
    {
      "cell_type": "code",
      "source": [
        "B=[\"a\",\"b\",\"c\"]"
      ],
      "metadata": {
        "id": "MH6K8KD7PpGK"
      },
      "execution_count": 9,
      "outputs": []
    },
    {
      "cell_type": "code",
      "source": [
        "B[1:]"
      ],
      "metadata": {
        "colab": {
          "base_uri": "https://localhost:8080/"
        },
        "id": "-0kO15MDPqDV",
        "outputId": "c906a509-8c97-4dc1-d2f6-eb656e8ed591"
      },
      "execution_count": 11,
      "outputs": [
        {
          "output_type": "execute_result",
          "data": {
            "text/plain": [
              "['b', 'c']"
            ]
          },
          "metadata": {},
          "execution_count": 11
        }
      ]
    },
    {
      "cell_type": "code",
      "source": [
        "B"
      ],
      "metadata": {
        "colab": {
          "base_uri": "https://localhost:8080/"
        },
        "id": "TYksOIo9PvGe",
        "outputId": "684c94c7-40a6-431e-911f-75bb4f8058f8"
      },
      "execution_count": 14,
      "outputs": [
        {
          "output_type": "execute_result",
          "data": {
            "text/plain": [
              "['a', 'b', 'c']"
            ]
          },
          "metadata": {},
          "execution_count": 14
        }
      ]
    },
    {
      "cell_type": "code",
      "source": [],
      "metadata": {
        "id": "_ohes8RNSkGE"
      },
      "execution_count": 17,
      "outputs": []
    },
    {
      "cell_type": "markdown",
      "source": [
        "## Sets"
      ],
      "metadata": {
        "id": "jc25saVpWSeH"
      }
    },
    {
      "cell_type": "code",
      "source": [
        "S={'A','B','C'}\n",
        "\n",
        "U={'A','Z','C'}\n",
        "\n",
        "U.union(S)\n"
      ],
      "metadata": {
        "id": "1Cr18tn5WUsL",
        "outputId": "0c6e33f8-7aae-4f35-fe1e-0304b71ac5b9",
        "colab": {
          "base_uri": "https://localhost:8080/"
        }
      },
      "execution_count": 20,
      "outputs": [
        {
          "output_type": "execute_result",
          "data": {
            "text/plain": [
              "{'A', 'B', 'C', 'Z'}"
            ]
          },
          "metadata": {},
          "execution_count": 20
        }
      ]
    },
    {
      "cell_type": "code",
      "source": [
        "\n",
        "\n",
        "S={'A','B','C'}\n",
        "\n",
        "U={'A','Z','C'}\n",
        "\n",
        "S&U"
      ],
      "metadata": {
        "id": "AcAlSa5daLs3",
        "outputId": "a854b701-dc65-46da-e851-bb3075b250c1",
        "colab": {
          "base_uri": "https://localhost:8080/"
        }
      },
      "execution_count": 21,
      "outputs": [
        {
          "output_type": "execute_result",
          "data": {
            "text/plain": [
              "{'A', 'C'}"
            ]
          },
          "metadata": {},
          "execution_count": 21
        }
      ]
    },
    {
      "cell_type": "markdown",
      "source": [
        "## Dictionaries"
      ],
      "metadata": {
        "id": "fmYtHa5AbKAg"
      }
    },
    {
      "cell_type": "code",
      "source": [
        "D = {'a':0,'b':1,'c':2} \n",
        "D.values()"
      ],
      "metadata": {
        "id": "qfoQQU8_bMpC",
        "outputId": "4ae0e01e-c977-4e88-f785-4831ce89bfa6",
        "colab": {
          "base_uri": "https://localhost:8080/"
        }
      },
      "execution_count": 22,
      "outputs": [
        {
          "output_type": "execute_result",
          "data": {
            "text/plain": [
              "dict_values([0, 1, 2])"
            ]
          },
          "metadata": {},
          "execution_count": 22
        }
      ]
    },
    {
      "cell_type": "code",
      "source": [
        "D['b']"
      ],
      "metadata": {
        "id": "S66ZIe5nbdKK",
        "outputId": "cc2d3dc1-fc01-405c-f0fc-d88449550f33",
        "colab": {
          "base_uri": "https://localhost:8080/"
        }
      },
      "execution_count": 23,
      "outputs": [
        {
          "output_type": "execute_result",
          "data": {
            "text/plain": [
              "1"
            ]
          },
          "metadata": {},
          "execution_count": 23
        }
      ]
    },
    {
      "cell_type": "markdown",
      "source": [
        "# Final Quest"
      ],
      "metadata": {
        "id": "FV_FEe5nbrBX"
      }
    },
    {
      "cell_type": "code",
      "source": [
        "L = (['c'])\n",
        "L.append(['a','b'])\n",
        "L"
      ],
      "metadata": {
        "id": "DrxzQTf2bxgs",
        "outputId": "0b143bc6-c722-44a5-c006-714374a7dd52",
        "colab": {
          "base_uri": "https://localhost:8080/"
        }
      },
      "execution_count": 28,
      "outputs": [
        {
          "output_type": "execute_result",
          "data": {
            "text/plain": [
              "['c', ['a', 'b']]"
            ]
          },
          "metadata": {},
          "execution_count": 28
        }
      ]
    },
    {
      "cell_type": "code",
      "source": [
        "Dict={\"A\":1,\"B\":\"2\",\"C\":[3,3,3],\"D\":(4,4,4),'E':5,'F':6}\n",
        "Dict[\"D\"]"
      ],
      "metadata": {
        "id": "KWoLTUIzb-dA",
        "outputId": "a55db310-1b81-40f4-8744-eee4c801f1b3",
        "colab": {
          "base_uri": "https://localhost:8080/"
        }
      },
      "execution_count": 29,
      "outputs": [
        {
          "output_type": "execute_result",
          "data": {
            "text/plain": [
              "(4, 4, 4)"
            ]
          },
          "metadata": {},
          "execution_count": 29
        }
      ]
    },
    {
      "cell_type": "markdown",
      "source": [
        "# Ejercicios"
      ],
      "metadata": {
        "id": "_X8kLho7Sqgg"
      }
    },
    {
      "cell_type": "markdown",
      "source": [
        "## Create a Tuple\n",
        "Find the Elements of a Tuple\n",
        "\n",
        "Find the first two elements of tuple  A :\n",
        "\n",
        "A[0:2]\n",
        "\n",
        "(0, 1)\n",
        "\n",
        "Click here for the solution\n",
        "\n",
        "A[0:2]\n",
        "\n",
        "Lists\n",
        "\n",
        "For the next few questions, you will need the following list:\n",
        "\n",
        "B=[\"a\",\"b\",\"c\"]\n",
        "\n",
        "Find the first two elements of the list  B:\n",
        "\n",
        "B[0:2]\n",
        "\n",
        "['a', 'b']\n",
        "\n",
        "Click here for the solution\n",
        "\n",
        "B[0:2]\n",
        "\n",
        "Change the first element of the list to an uppercase \"A\".\n",
        "\n",
        "B[0] = B[0].upper()\n",
        "\n",
        "B[0]\n",
        "\n",
        "'A'\n",
        "\n",
        "Click here for the solution"
      ],
      "metadata": {
        "id": "697hXL0SVb3r"
      }
    },
    {
      "cell_type": "markdown",
      "source": [
        "## Cast a List to a Set\n",
        "\n",
        "Cast the following list to a set:\n",
        "\n",
        "['A','B','C','A','B','C']\n",
        "\n",
        "​\n",
        "\n",
        "['A', 'B', 'C', 'A', 'B', 'C']\n",
        "\n",
        "Click here for the solution\n",
        "\n",
        "set(['A','B','C','A','B','C'])\n",
        "\n",
        "Add an Element to the Set\n",
        "\n",
        "Add the string 'D' to the set S.\n",
        "\n",
        "S={'A','B','C'}\n",
        "\n",
        "S.add('D')\n",
        "\n",
        "Click here for the solution\n",
        "\n",
        "S.add('D')\n",
        "S\n",
        "\n",
        "Intersection of Sets\n",
        "\n",
        "Find the intersection of set A and B.\n",
        "\n",
        "A={1,2,3,4,5}\n",
        "\n",
        "B={1,3,9, 12}\n",
        "\n",
        "​\n",
        "\n",
        "A&B\n",
        "\n",
        "{1, 3}\n",
        "\n",
        "Click here for the solution\n",
        "\n",
        "A & B\n",
        "\n",
        "OR\n",
        "\n",
        "A.intersection(B)\n",
        "\n"
      ],
      "metadata": {
        "id": "LGtBRqMyanti"
      }
    },
    {
      "cell_type": "markdown",
      "source": [
        "## Dictonaries\n",
        "You will need the dictionary D:\n",
        "\n",
        "D={'a':0,'b':1,'c':2}\n",
        "\n",
        "Find the Value of a Key\n",
        "\n",
        "Find the value for the key 'a':\n",
        "\n",
        "D['a']\n",
        "\n",
        "0\n",
        "\n",
        "Click here for the solution\n",
        "\n",
        "D[\"a\"]\n",
        "\n",
        "Keys of a Dictionary\n",
        "\n",
        "Find the keys of the dictionary D:\n",
        "\n",
        "D.keys()\n",
        "\n",
        "dict_keys(['a', 'b', 'c'])\n",
        "\n",
        "Click here for the solution\n",
        "\n",
        "D.keys()\n",
        "\n"
      ],
      "metadata": {
        "id": "NFDuwQLmbEZY"
      }
    }
  ],
  "metadata": {
    "kernelspec": {
      "display_name": "Python 3.10.6 64-bit",
      "language": "python",
      "name": "python3"
    },
    "language_info": {
      "codemirror_mode": {
        "name": "ipython",
        "version": 3
      },
      "file_extension": ".py",
      "mimetype": "text/x-python",
      "name": "python",
      "nbconvert_exporter": "python",
      "pygments_lexer": "ipython3",
      "version": "3.10.6"
    },
    "orig_nbformat": 4,
    "vscode": {
      "interpreter": {
        "hash": "b27fa327a95f0eef0f878177ae37ed790559c26732ddc28a8c687325a6119dd9"
      }
    },
    "colab": {
      "provenance": [],
      "toc_visible": true,
      "include_colab_link": true
    }
  },
  "nbformat": 4,
  "nbformat_minor": 0
}
