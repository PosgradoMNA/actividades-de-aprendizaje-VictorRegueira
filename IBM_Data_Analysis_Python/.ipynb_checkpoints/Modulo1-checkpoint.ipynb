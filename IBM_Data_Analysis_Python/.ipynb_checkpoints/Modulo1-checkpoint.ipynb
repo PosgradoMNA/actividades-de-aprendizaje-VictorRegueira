{
 "cells": [
  {
   "cell_type": "markdown",
   "id": "0aaf13f9-afc9-47b7-b430-0475ff132007",
   "metadata": {},
   "source": [
    "# Módulo 1\n",
    "\n",
    "**Materia:** Ciencia y Analítica de Datos\n",
    "\n",
    "**Curso:** IBM Data Analysis with Python\n",
    "\n",
    "**Alumno:** Víctor Alejandro Regueira Romero - A01794404\n",
    "\n",
    "---"
   ]
  },
  {
   "cell_type": "code",
   "execution_count": null,
   "id": "6106e88d-5bc0-471b-abaf-81d016b31ea7",
   "metadata": {},
   "outputs": [],
   "source": []
  }
 ],
 "metadata": {
  "kernelspec": {
   "display_name": "Python 3 (ipykernel)",
   "language": "python",
   "name": "python3"
  },
  "language_info": {
   "codemirror_mode": {
    "name": "ipython",
    "version": 3
   },
   "file_extension": ".py",
   "mimetype": "text/x-python",
   "name": "python",
   "nbconvert_exporter": "python",
   "pygments_lexer": "ipython3",
   "version": "3.9.12"
  }
 },
 "nbformat": 4,
 "nbformat_minor": 5
}
