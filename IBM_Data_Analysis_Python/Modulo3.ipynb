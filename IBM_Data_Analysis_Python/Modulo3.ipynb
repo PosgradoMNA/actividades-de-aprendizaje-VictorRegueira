{
 "cells": [
  {
   "cell_type": "markdown",
   "id": "0aaf13f9-afc9-47b7-b430-0475ff132007",
   "metadata": {},
   "source": [
    "# Módulo 3 Exploratory Data Analysis\n",
    "\n",
    "**Materia:** Ciencia y Analítica de Datos\n",
    "\n",
    "**Curso:** IBM Data Analysis with Python\n",
    "\n",
    "**Alumno:** Víctor Alejandro Regueira Romero - A01794404\n",
    "\n",
    "---"
   ]
  },
  {
   "cell_type": "markdown",
   "id": "b9b30461-900d-4ca7-9287-7108483133e9",
   "metadata": {},
   "source": [
    "## IBM Curso"
   ]
  },
  {
   "cell_type": "markdown",
   "id": "4466343e-c8dc-414f-ab6b-cceb799bce7f",
   "metadata": {},
   "source": [
    "## Labs"
   ]
  },
  {
   "cell_type": "markdown",
   "id": "e9e3afe1-ac3e-4a43-b157-0032c221c343",
   "metadata": {},
   "source": [
    "[DA0101EN-2-Review-Data-Wrangling](https://github.com/PosgradoMNA/actividades-de-aprendizaje-VictorRegueira/blob/main/IBM_Data_Analysis_Python/Labs/DA0101EN-2-Review-Data-Wrangling.jupyterlite.ipynb)"
   ]
  },
  {
   "cell_type": "markdown",
   "id": "5a606ad2-0eb9-484f-8e7d-b6767cb23ad8",
   "metadata": {},
   "source": [
    "## Graded Review Questions"
   ]
  }
 ],
 "metadata": {
  "kernelspec": {
   "display_name": "Python 3 (ipykernel)",
   "language": "python",
   "name": "python3"
  },
  "language_info": {
   "codemirror_mode": {
    "name": "ipython",
    "version": 3
   },
   "file_extension": ".py",
   "mimetype": "text/x-python",
   "name": "python",
   "nbconvert_exporter": "python",
   "pygments_lexer": "ipython3",
   "version": "3.9.12"
  }
 },
 "nbformat": 4,
 "nbformat_minor": 5
}
